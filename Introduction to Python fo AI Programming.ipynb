{
 "cells": [
  {
   "cell_type": "markdown",
   "metadata": {},
   "source": [
    "# Python for Artificial Intelligence Nano Degree Program"
   ]
  },
  {
   "cell_type": "code",
   "execution_count": 99,
   "metadata": {},
   "outputs": [],
   "source": [
    "# Introduction to some basic concept in python itself..."
   ]
  },
  {
   "cell_type": "markdown",
   "metadata": {},
   "source": [
    "## Course Overview: \n",
    "### 1. Introduction to python for AI programming\n",
    "### 2. Numpy, Pandas, Matplotlib\n",
    "### 3. Linear Algebra Essentials\n",
    "### 4. Calculus Essentials\n",
    "### 5. Neural Network - AI programming with Python\n",
    "### 6. Create your own Image Classification Project"
   ]
  },
  {
   "cell_type": "code",
   "execution_count": null,
   "metadata": {},
   "outputs": [],
   "source": []
  },
  {
   "cell_type": "markdown",
   "metadata": {},
   "source": [
    "## Introduction to Python for AI Programming"
   ]
  },
  {
   "cell_type": "markdown",
   "metadata": {},
   "source": [
    "### Lessions 1: Introduction to python and why python"
   ]
  },
  {
   "cell_type": "code",
   "execution_count": 100,
   "metadata": {},
   "outputs": [
    {
     "name": "stdout",
     "output_type": "stream",
     "text": [
      "Sachin is a good boy\n"
     ]
    }
   ],
   "source": [
    "# Print Statements\n",
    "# print () - built-in function that displays input values as text in the output\n",
    "print('Sachin is a good boy')"
   ]
  },
  {
   "cell_type": "markdown",
   "metadata": {},
   "source": [
    "### Lesson 2: Data Types and Operators"
   ]
  },
  {
   "cell_type": "code",
   "execution_count": 101,
   "metadata": {},
   "outputs": [],
   "source": [
    "# Arithmetic Operators\n",
    "# Arithmetic operators\n",
    "\n",
    "# + Addition\n",
    "# - Subtraction\n",
    "# * Multiplication\n",
    "# / Division\n",
    "# % Mod (the remainder after dividing)\n",
    "# ** Exponentiation (note that ^ does not do this operation, as you might have seen in other languages)\n",
    "# // Divides and rounds down to the nearest integer\n",
    "# The usual order of mathematical operations holds in Python, which you can review in this Math Forum page if needed.\n",
    "\n",
    "# Bitwise operators are special operators in Python that you can learn more about here if you'd like."
   ]
  },
  {
   "cell_type": "code",
   "execution_count": 102,
   "metadata": {},
   "outputs": [
    {
     "name": "stdout",
     "output_type": "stream",
     "text": [
      "39.666666666666664\n"
     ]
    }
   ],
   "source": [
    "# Write an expression that calculates the average of 23, 32 and 64.\n",
    "# Place the expression in this print statement.\n",
    "print((23 + 32 + 64)/3)"
   ]
  },
  {
   "cell_type": "code",
   "execution_count": 103,
   "metadata": {},
   "outputs": [
    {
     "name": "stdout",
     "output_type": "stream",
     "text": [
      "98\n",
      "4\n"
     ]
    }
   ],
   "source": [
    "# Fill this in with an expression that calculates how many tiles are needed.\n",
    "print(9*7 + 5*7)\n",
    "# Fill this in with an expression that calculates how many tiles will be left over.\n",
    "print(17*6 - (9*7 + 5*7))"
   ]
  },
  {
   "cell_type": "code",
   "execution_count": 104,
   "metadata": {},
   "outputs": [],
   "source": [
    "# Variable\n",
    "x = 3\n",
    "y = 4\n",
    "z = 5\n",
    "x, y, z = 3, 4, 5"
   ]
  },
  {
   "cell_type": "code",
   "execution_count": 105,
   "metadata": {},
   "outputs": [],
   "source": [
    "my_height = 58\n",
    "my_lat = 40\n",
    "my_long = 105"
   ]
  },
  {
   "cell_type": "code",
   "execution_count": 106,
   "metadata": {},
   "outputs": [
    {
     "name": "stdout",
     "output_type": "stream",
     "text": [
      "447627500.0\n"
     ]
    }
   ],
   "source": [
    "# The current volume of a water reservoir (in cubic metres)\n",
    "reservoir_volume = 4.445e8\n",
    "# The amount of rainfall from a storm (in cubic metres)\n",
    "rainfall = 5e6\n",
    "\n",
    "# decrease the rainfall variable by 10% to account for runoff\n",
    "rainfall *= .9\n",
    "\n",
    "# add the rainfall variable to the reservoir_volume variable\n",
    "reservoir_volume += rainfall\n",
    "\n",
    "# increase reservoir_volume by 5% to account for stormwater that flows\n",
    "# into the reservoir in the days following the storm\n",
    "reservoir_volume *= 1.05\n",
    "\n",
    "# decrease reservoir_volume by 5% to account for evaporation\n",
    "reservoir_volume *= 0.95\n",
    "\n",
    "# subtract 2.5e5 cubic metres from reservoir_volume to account for water\n",
    "# that's piped to arid regions.\n",
    "reservoir_volume -= 2.5e5 \n",
    "\n",
    "# print the new value of the reservoir_volume variable\n",
    "print(reservoir_volume)"
   ]
  },
  {
   "cell_type": "code",
   "execution_count": 107,
   "metadata": {},
   "outputs": [],
   "source": [
    "# Float and Integer\n",
    "x = int(4.7)   # x is now an integer 4\n",
    "y = float(4)   # y is now a float of 4.0"
   ]
  },
  {
   "cell_type": "code",
   "execution_count": 108,
   "metadata": {},
   "outputs": [],
   "source": [
    "# Boolean Operator\n",
    "# The bool data type holds one of the values True or False, which are often encoded as 1 or 0, respectively.\n",
    "# There are 6 comparison operators that are common to see in order to obtain a bool value:\n",
    "\n",
    "# Comparison Operators\n",
    "# Symbol Use Case\tBool\tOperation\n",
    "# 5 < 3\tFalse\tLess Than\n",
    "# 5 > 3\tTrue\tGreater Than\n",
    "# 3 <= 3\tTrue\tLess Than or Equal To\n",
    "# 3 >= 5\tFalse\tGreater Than or Equal To\n",
    "# 3 == 5\tFalse\tEqual To\n",
    "# 3 != 5\tTrue\tNot Equal To\n",
    "\n",
    "# Logical Use\tBool\tOperation\n",
    "# 5 < 3 and 5 == 5\tFalse\tand - Evaluates if all provided statements are True\n",
    "# 5 < 3 or 5 == 5\tTrue\tor - Evaluates if at least one of many statements is True\n",
    "# not 5 < 3\tTrue\tnot - Flips the Bool Value"
   ]
  },
  {
   "cell_type": "code",
   "execution_count": 109,
   "metadata": {},
   "outputs": [
    {
     "name": "stdout",
     "output_type": "stream",
     "text": [
      "False\n"
     ]
    }
   ],
   "source": [
    "# Exercise \n",
    "sf_population, sf_area = 864816, 231.89\n",
    "rio_population, rio_area = 6453682, 486.5\n",
    "\n",
    "san_francisco_pop_density = sf_population/sf_area\n",
    "rio_de_janeiro_pop_density = rio_population/rio_area\n",
    "\n",
    "# Write code that prints True if San Francisco is denser than Rio, and False otherwise\n",
    "result = san_francisco_pop_density > rio_de_janeiro_pop_density\n",
    "\n",
    "print(result)"
   ]
  },
  {
   "cell_type": "code",
   "execution_count": 110,
   "metadata": {},
   "outputs": [],
   "source": [
    "# String\n",
    "my_string = 'this is a string!'\n",
    "my_string2 = \"this is also a string!!!\""
   ]
  },
  {
   "cell_type": "code",
   "execution_count": 111,
   "metadata": {},
   "outputs": [],
   "source": [
    "# TODO: Fix this string!\n",
    "ford_quote = 'Whether you think you can, or you think you can\\'t--you\\'re right.'\n",
    "\n",
    "# TODO: Fix this string!\n",
    "ford_quote = \"Whether you think you can, or you think you can't--you're right.\""
   ]
  },
  {
   "cell_type": "code",
   "execution_count": 112,
   "metadata": {},
   "outputs": [
    {
     "name": "stdout",
     "output_type": "stream",
     "text": [
      "Kinari accessed the site http://petshop.com/pets/mammals/cats at 04:50.\n"
     ]
    }
   ],
   "source": [
    "username = \"Kinari\"\n",
    "timestamp = \"04:50\"\n",
    "url = \"http://petshop.com/pets/mammals/cats\"\n",
    "\n",
    "# TODO: print a log message using the variables above.\n",
    "# The message should have the same format as this one:\n",
    "# \"Yogesh accessed the site http://petshop.com/pets/reptiles/pythons at 16:20.\"\n",
    "print(username, 'accessed the site', url, 'at', timestamp +'.')"
   ]
  },
  {
   "cell_type": "code",
   "execution_count": 113,
   "metadata": {},
   "outputs": [
    {
     "name": "stdout",
     "output_type": "stream",
     "text": [
      "20\n",
      "True\n"
     ]
    }
   ],
   "source": [
    "given_name = \"William\"\n",
    "middle_names = \"Bradley\"\n",
    "family_name = \"Pitt\"\n",
    "name = given_name + ' ' + middle_names + ' ' + family_name\n",
    "name_length = len(name)\n",
    "print(name_length)\n",
    "# Now we check to make sure that the name fits within the driving license character limit\n",
    "# Nothing you need to do here\n",
    "driving_license_character_limit = 28\n",
    "print(name_length <= driving_license_character_limit)"
   ]
  },
  {
   "cell_type": "code",
   "execution_count": 114,
   "metadata": {},
   "outputs": [
    {
     "name": "stdout",
     "output_type": "stream",
     "text": [
      "<class 'str'>\n"
     ]
    }
   ],
   "source": [
    "print(type('str'))"
   ]
  },
  {
   "cell_type": "code",
   "execution_count": 115,
   "metadata": {},
   "outputs": [
    {
     "name": "stdout",
     "output_type": "stream",
     "text": [
      "This week's total sales: 529\n"
     ]
    }
   ],
   "source": [
    "mon_sales = \"121\"\n",
    "tues_sales = \"105\"\n",
    "wed_sales = \"110\"\n",
    "thurs_sales = \"98\"\n",
    "fri_sales = \"95\"\n",
    "\n",
    "#TODO: Print a string with this format: This week's total sales: xxx\n",
    "# You will probably need to write some lines of code before the print statement.\n",
    "print('This week\\'s total sales: '+ str(int(mon_sales) + int(tues_sales) + int(wed_sales) + int(thurs_sales) + int(fri_sales)))"
   ]
  },
  {
   "cell_type": "code",
   "execution_count": 116,
   "metadata": {},
   "outputs": [
    {
     "name": "stdout",
     "output_type": "stream",
     "text": [
      "Mohammed has 27 balloons\n",
      "Does your dog bite?\n",
      "Maria loves math and statistics\n"
     ]
    }
   ],
   "source": [
    "print(\"Mohammed has {} balloons\".format(27))\n",
    "animal = \"dog\"\n",
    "action = \"bite\"\n",
    "print(\"Does your {} {}?\".format(animal, action))\n",
    "maria_string = \"Maria loves {} and {}\"\n",
    "print(maria_string.format(\"math\", \"statistics\"))"
   ]
  },
  {
   "cell_type": "code",
   "execution_count": 117,
   "metadata": {},
   "outputs": [
    {
     "name": "stdout",
     "output_type": "stream",
     "text": [
      "Sachin and Vaibhav are brothers\n"
     ]
    }
   ],
   "source": [
    "# Write two lines of code below, each assigning a value to a variable\n",
    "a = 'Sachin'\n",
    "b = 'Vaibhav'\n",
    "\n",
    "# Now write a print statement using .format() to print out a sentence and the \n",
    "#   values of both of the variables\n",
    "print('{} and {} are brothers'.format(a, b))"
   ]
  },
  {
   "cell_type": "code",
   "execution_count": 118,
   "metadata": {},
   "outputs": [
    {
     "data": {
      "text/plain": [
       "['The', 'cow', 'jumped', 'over', 'the', 'moon.']"
      ]
     },
     "execution_count": 118,
     "metadata": {},
     "output_type": "execute_result"
    }
   ],
   "source": [
    "new_str = \"The cow jumped over the moon.\"\n",
    "new_str.split()\n"
   ]
  },
  {
   "cell_type": "code",
   "execution_count": 119,
   "metadata": {},
   "outputs": [
    {
     "data": {
      "text/plain": [
       "['The', 'cow', 'jumped', 'over the moon.']"
      ]
     },
     "execution_count": 119,
     "metadata": {},
     "output_type": "execute_result"
    }
   ],
   "source": [
    "new_str.split(' ', 3)"
   ]
  },
  {
   "cell_type": "code",
   "execution_count": 120,
   "metadata": {},
   "outputs": [
    {
     "data": {
      "text/plain": [
       "['The cow jumped over the moon', '']"
      ]
     },
     "execution_count": 120,
     "metadata": {},
     "output_type": "execute_result"
    }
   ],
   "source": [
    "new_str.split('.')"
   ]
  },
  {
   "cell_type": "code",
   "execution_count": 121,
   "metadata": {},
   "outputs": [
    {
     "data": {
      "text/plain": [
       "['The', 'cow', 'jumped', 'over the moon.']"
      ]
     },
     "execution_count": 121,
     "metadata": {},
     "output_type": "execute_result"
    }
   ],
   "source": [
    "new_str.split(None, 3)"
   ]
  },
  {
   "cell_type": "code",
   "execution_count": 122,
   "metadata": {},
   "outputs": [
    {
     "name": "stdout",
     "output_type": "stream",
     "text": [
      "If you can keep your head when all about you\n",
      "  Are losing theirs and blaming it on you,\n",
      "If you can trust yourself when all men doubt you,\n",
      "  But make allowance for their doubting too;\n",
      "If you can wait and not be tired by waiting,\n",
      "  Or being lied about, don’t deal in lies,\n",
      "Or being hated, don’t give way to hating,\n",
      "  And yet don’t look too good, nor talk too wise:\n",
      "362\n",
      "65\n",
      "186\n",
      "8\n"
     ]
    }
   ],
   "source": [
    "verse = \"If you can keep your head when all about you\\n  Are losing theirs and blaming it on you,\\nIf you can trust yourself when all men doubt you,\\n  But make allowance for their doubting too;\\nIf you can wait and not be tired by waiting,\\n  Or being lied about, don’t deal in lies,\\nOr being hated, don’t give way to hating,\\n  And yet don’t look too good, nor talk too wise:\"\n",
    "print(verse)\n",
    "\n",
    "# Use the appropriate functions and methods to answer the questions above\n",
    "# Bonus: practice using .format() to output your answers in descriptive messages!\n",
    "\n",
    "print(len(verse))\n",
    "print(verse.find('and'))\n",
    "print(verse.rfind('you'))\n",
    "print(verse.count('you'))\n"
   ]
  },
  {
   "cell_type": "code",
   "execution_count": 123,
   "metadata": {},
   "outputs": [
    {
     "name": "stdout",
     "output_type": "stream",
     "text": [
      "If you can keep your head when all about you\n",
      "  Are losing theirs and blaming it on you,\n",
      "If you can trust yourself when all men doubt you,\n",
      "  But make allowance for their doubting too;\n",
      "If you can wait and not be tired by waiting,\n",
      "  Or being lied about, don’t deal in lies,\n",
      "Or being hated, don’t give way to hating,\n",
      "  And yet don’t look too good, nor talk too wise: \n",
      "\n",
      "Verse has a length of 362 characters.\n",
      "The first occurence of the word 'and' occurs at the 65th index.\n",
      "The last occurence of the word 'you' occurs at the 186th index.\n",
      "The word 'you' occurs 8 times in the verse.\n"
     ]
    }
   ],
   "source": [
    "verse = \"If you can keep your head when all about you\\n  Are losing theirs and blaming it on you,\\nIf you can trust yourself when all men doubt you,\\n  But make allowance for their doubting too;\\nIf you can wait and not be tired by waiting,\\n  Or being lied about, don’t deal in lies,\\nOr being hated, don’t give way to hating,\\n  And yet don’t look too good, nor talk too wise:\"\n",
    "print(verse, \"\\n\")\n",
    "\n",
    "message = \"Verse has a length of {} characters.\\nThe first occurence of the \\\n",
    "word 'and' occurs at the {}th index.\\nThe last occurence of the word 'you' \\\n",
    "occurs at the {}th index.\\nThe word 'you' occurs {} times in the verse.\"\n",
    "\n",
    "length = len(verse)\n",
    "first_idx = verse.find('and')\n",
    "last_idx = verse.rfind('you')\n",
    "count = verse.count('you')\n",
    "\n",
    "print(message.format(length, first_idx, last_idx, count))"
   ]
  },
  {
   "cell_type": "code",
   "execution_count": 124,
   "metadata": {},
   "outputs": [],
   "source": [
    "# Summary: \n",
    "# Data Type             \tConstructor                 \tExample\n",
    "# int\t                    int()                       \t5\n",
    "# float                 \tfloat()                     \t6.5\n",
    "# string\t                '' or \"\" or str()               \"this is a string\"\n",
    "# bool\t                    bool()                         \tTrue or False"
   ]
  },
  {
   "cell_type": "markdown",
   "metadata": {},
   "source": [
    "### Lesson 3: Data Structure"
   ]
  },
  {
   "cell_type": "code",
   "execution_count": 125,
   "metadata": {},
   "outputs": [
    {
     "name": "stdout",
     "output_type": "stream",
     "text": [
      "31\n"
     ]
    }
   ],
   "source": [
    "month = 8\n",
    "days_in_month = [31,28,31,30,31,30,31,31,30,31,30,31]\n",
    "\n",
    "# use list indexing to determine the number of days in month\n",
    "num_days = days_in_month[7]\n",
    "\n",
    "print(num_days)"
   ]
  },
  {
   "cell_type": "code",
   "execution_count": 126,
   "metadata": {},
   "outputs": [
    {
     "name": "stdout",
     "output_type": "stream",
     "text": [
      "['November 13, 2012', 'March 20, 2015', 'March 9, 2016']\n"
     ]
    }
   ],
   "source": [
    "eclipse_dates = ['June 21, 2001', 'December 4, 2002', 'November 23, 2003',\n",
    "                 'March 29, 2006', 'August 1, 2008', 'July 22, 2009',\n",
    "                 'July 11, 2010', 'November 13, 2012', 'March 20, 2015',\n",
    "                 'March 9, 2016']\n",
    "                 \n",
    "                 \n",
    "# TODO: Modify this line so it prints the last three elements of the list\n",
    "print(eclipse_dates[-3:])"
   ]
  },
  {
   "cell_type": "code",
   "execution_count": 127,
   "metadata": {},
   "outputs": [
    {
     "data": {
      "text/plain": [
       "31"
      ]
     },
     "execution_count": 127,
     "metadata": {},
     "output_type": "execute_result"
    }
   ],
   "source": [
    "# Indexing\n",
    "num_days = days_in_month[month - 1]\n",
    "num_days"
   ]
  },
  {
   "cell_type": "code",
   "execution_count": 128,
   "metadata": {},
   "outputs": [
    {
     "name": "stdout",
     "output_type": "stream",
     "text": [
      "['November 13, 2012', 'March 20, 2015', 'March 9, 2016']\n"
     ]
    }
   ],
   "source": [
    "print(eclipse_dates[-3:])"
   ]
  },
  {
   "cell_type": "code",
   "execution_count": 129,
   "metadata": {},
   "outputs": [
    {
     "name": "stdout",
     "output_type": "stream",
     "text": [
      "fore\n",
      "aft\n",
      "starboard\n",
      "port\n"
     ]
    }
   ],
   "source": [
    "# Join method\n",
    "new_str = \"\\n\".join([\"fore\", \"aft\", \"starboard\", \"port\"])\n",
    "print(new_str)"
   ]
  },
  {
   "cell_type": "code",
   "execution_count": 130,
   "metadata": {},
   "outputs": [
    {
     "name": "stdout",
     "output_type": "stream",
     "text": [
      "García-O'Kelly-Davis\n"
     ]
    }
   ],
   "source": [
    "# Join Method\n",
    "name = \"-\".join([\"García\", \"O'Kelly\", \"Davis\"])\n",
    "print(name)"
   ]
  },
  {
   "cell_type": "code",
   "execution_count": 131,
   "metadata": {},
   "outputs": [
    {
     "name": "stdout",
     "output_type": "stream",
     "text": [
      "['a', 'b', 'c', 'd', 'z']\n"
     ]
    }
   ],
   "source": [
    "# Append\n",
    "letters = ['a', 'b', 'c', 'd']\n",
    "letters.append('z')\n",
    "print(letters)"
   ]
  },
  {
   "cell_type": "code",
   "execution_count": 132,
   "metadata": {},
   "outputs": [
    {
     "name": "stdout",
     "output_type": "stream",
     "text": [
      "Latitude: 13.4125\n",
      "Longitude: 103.866667\n"
     ]
    }
   ],
   "source": [
    "# Indexing\n",
    "location = (13.4125, 103.866667)\n",
    "print(\"Latitude:\", location[0])\n",
    "print(\"Longitude:\", location[1])"
   ]
  },
  {
   "cell_type": "code",
   "execution_count": 133,
   "metadata": {},
   "outputs": [
    {
     "name": "stdout",
     "output_type": "stream",
     "text": [
      "The dimensions are 52 x 40 x 100\n"
     ]
    }
   ],
   "source": [
    "# Format\n",
    "dimensions = 52, 40, 100\n",
    "length, width, height = dimensions\n",
    "print(\"The dimensions are {} x {} x {}\".format(length, width, height))"
   ]
  },
  {
   "cell_type": "code",
   "execution_count": 134,
   "metadata": {},
   "outputs": [
    {
     "name": "stdout",
     "output_type": "stream",
     "text": [
      "The dimensions are 52 x 40 x 100\n"
     ]
    }
   ],
   "source": [
    "length, width, height = 52, 40, 100\n",
    "print(\"The dimensions are {} x {} x {}\".format(length, width, height))"
   ]
  },
  {
   "cell_type": "code",
   "execution_count": 135,
   "metadata": {},
   "outputs": [
    {
     "name": "stdout",
     "output_type": "stream",
     "text": [
      "{1, 2, 3, 6}\n"
     ]
    }
   ],
   "source": [
    "# Set\n",
    "numbers = [1, 2, 6, 3, 1, 1, 6]\n",
    "unique_nums = set(numbers)\n",
    "print(unique_nums)"
   ]
  },
  {
   "cell_type": "code",
   "execution_count": 136,
   "metadata": {},
   "outputs": [
    {
     "name": "stdout",
     "output_type": "stream",
     "text": [
      "False\n",
      "{'grapefruit', 'watermelon', 'banana', 'orange', 'apple'}\n",
      "grapefruit\n",
      "{'watermelon', 'banana', 'orange', 'apple'}\n"
     ]
    }
   ],
   "source": [
    "fruit = {\"apple\", \"banana\", \"orange\", \"grapefruit\"}  # define a set\n",
    "\n",
    "print(\"watermelon\" in fruit)  # check for element\n",
    "\n",
    "fruit.add(\"watermelon\")  # add an element\n",
    "print(fruit)\n",
    "\n",
    "print(fruit.pop())  # remove a random element\n",
    "print(fruit)"
   ]
  },
  {
   "cell_type": "code",
   "execution_count": 137,
   "metadata": {},
   "outputs": [
    {
     "data": {
      "text/plain": [
       "{'hydrogen': 1, 'helium': 2, 'carbon': 6}"
      ]
     },
     "execution_count": 137,
     "metadata": {},
     "output_type": "execute_result"
    }
   ],
   "source": [
    "# Dictionary\n",
    "elements = {\"hydrogen\": 1, \"helium\": 2, \"carbon\": 6}\n",
    "elements"
   ]
  },
  {
   "cell_type": "code",
   "execution_count": 138,
   "metadata": {},
   "outputs": [
    {
     "data": {
      "text/plain": [
       "{'abc': 1, 5: 'hello'}"
      ]
     },
     "execution_count": 138,
     "metadata": {},
     "output_type": "execute_result"
    }
   ],
   "source": [
    "random_dict = {\"abc\": 1, 5: \"hello\"}\n",
    "random_dict"
   ]
  },
  {
   "cell_type": "code",
   "execution_count": 139,
   "metadata": {},
   "outputs": [
    {
     "name": "stdout",
     "output_type": "stream",
     "text": [
      "2\n",
      "True\n",
      "None\n"
     ]
    }
   ],
   "source": [
    "print(elements[\"helium\"])\n",
    "elements[\"lithium\"] = 3\n",
    "print(\"carbon\" in elements)\n",
    "print(elements.get(\"dilithium\"))"
   ]
  },
  {
   "cell_type": "code",
   "execution_count": 140,
   "metadata": {},
   "outputs": [
    {
     "name": "stdout",
     "output_type": "stream",
     "text": [
      "True\n",
      "False\n"
     ]
    }
   ],
   "source": [
    "n = elements.get(\"dilithium\")\n",
    "print(n is None)\n",
    "print(n is not None)"
   ]
  },
  {
   "cell_type": "code",
   "execution_count": 141,
   "metadata": {},
   "outputs": [
    {
     "name": "stdout",
     "output_type": "stream",
     "text": [
      "{'Istanbul': 13.3, 'Karachi': 13.0, 'Mumbai': 12.5, 'Shanghai': 17.8}\n"
     ]
    }
   ],
   "source": [
    "# Define a Dictionary, population,\n",
    "population = {'Shanghai': 17.8 , 'Istanbul': 13.3 , 'Karachi': 13.0, 'Mumbai': 12.5}\n",
    "# that provides information\n",
    "# on the world's largest cities.\n",
    "# The key is the name of a city\n",
    "# (a string), and the associated\n",
    "# value is its population in\n",
    "# millions of people.\n",
    "from pprint import pprint\n",
    "pprint(population)\n",
    "\n",
    "#   Key     |   Value\n",
    "# Shanghai  |   17.8\n",
    "# Istanbul  |   13.3\n",
    "# Karachi   |   13.0\n",
    "# Mumbai    |   12.5"
   ]
  },
  {
   "cell_type": "code",
   "execution_count": 142,
   "metadata": {},
   "outputs": [],
   "source": [
    "elements = {\"hydrogen\": {\"number\": 1,\n",
    "                         \"weight\": 1.00794,\n",
    "                         \"symbol\": \"H\"},\n",
    "              \"helium\": {\"number\": 2,\n",
    "                         \"weight\": 4.002602,\n",
    "                         \"symbol\": \"He\"}}"
   ]
  },
  {
   "cell_type": "code",
   "execution_count": 143,
   "metadata": {},
   "outputs": [],
   "source": [
    "helium = elements[\"helium\"]  # get the helium dictionary\n",
    "hydrogen_weight = elements[\"hydrogen\"][\"weight\"]  # get hydrogen's weight"
   ]
  },
  {
   "cell_type": "code",
   "execution_count": 144,
   "metadata": {},
   "outputs": [
    {
     "name": "stdout",
     "output_type": "stream",
     "text": [
      "elements =  {'hydrogen': {'number': 1, 'weight': 1.00794, 'symbol': 'H'}, 'helium': {'number': 2, 'weight': 4.002602, 'symbol': 'He'}, 'oxygen': {'number': 8, 'weight': 15.999, 'symbol': 'O'}}\n"
     ]
    }
   ],
   "source": [
    "oxygen = {\"number\":8,\"weight\":15.999,\"symbol\":\"O\"}  # create a new oxygen dictionary \n",
    "elements[\"oxygen\"] = oxygen  # assign 'oxygen' as a key to the elements dictionary\n",
    "print('elements = ', elements)"
   ]
  },
  {
   "cell_type": "code",
   "execution_count": 145,
   "metadata": {},
   "outputs": [],
   "source": [
    "elements = {'hydrogen': {'number': 1, 'weight': 1.00794, 'symbol': 'H'},\n",
    "            'helium': {'number': 2, 'weight': 4.002602, 'symbol': 'He'}}\n",
    "\n",
    "# todo: Add an 'is_noble_gas' entry to the hydrogen and helium dictionaries\n",
    "elements['hydrogen']['is_noble_gas'] = False\n",
    "elements['helium']['is_noble_gas'] = True\n",
    "# hint: helium is a noble gas, hydrogen isn't\n"
   ]
  },
  {
   "cell_type": "code",
   "execution_count": 146,
   "metadata": {},
   "outputs": [
    {
     "name": "stdout",
     "output_type": "stream",
     "text": [
      "if you can keep your head when all about you are losing theirs and blaming it on you   if you can trust yourself when all men doubt you     but make allowance for their doubting too   if you can wait and not be tired by waiting      or being lied about  don’t deal in lies   or being hated  don’t give way to hating      and yet don’t look too good  nor talk too wise \n",
      "\n",
      "['if', 'you', 'can', 'keep', 'your', 'head', 'when', 'all', 'about', 'you', 'are', 'losing', 'theirs', 'and', 'blaming', 'it', 'on', 'you', 'if', 'you', 'can', 'trust', 'yourself', 'when', 'all', 'men', 'doubt', 'you', 'but', 'make', 'allowance', 'for', 'their', 'doubting', 'too', 'if', 'you', 'can', 'wait', 'and', 'not', 'be', 'tired', 'by', 'waiting', 'or', 'being', 'lied', 'about', 'don’t', 'deal', 'in', 'lies', 'or', 'being', 'hated', 'don’t', 'give', 'way', 'to', 'hating', 'and', 'yet', 'don’t', 'look', 'too', 'good', 'nor', 'talk', 'too', 'wise'] \n",
      "\n",
      "{'too', 'or', 'to', 'nor', 'lies', 'it', 'their', 'lied', 'being', 'wise', 'if', 'doubt', 'for', 'deal', 'make', 'and', 'but', 'trust', 'yet', 'about', 'be', 'on', 'blaming', 'not', 'can', 'when', 'look', 'yourself', 'in', 'all', 'your', 'keep', 'don’t', 'losing', 'men', 'hated', 'head', 'by', 'tired', 'give', 'good', 'talk', 'wait', 'hating', 'are', 'way', 'doubting', 'allowance', 'theirs', 'you', 'waiting'} \n",
      "\n",
      "51 \n",
      "\n"
     ]
    }
   ],
   "source": [
    "verse = \"if you can keep your head when all about you are losing theirs and blaming it on you   if you can trust yourself when all men doubt you     but make allowance for their doubting too   if you can wait and not be tired by waiting      or being lied about  don’t deal in lies   or being hated  don’t give way to hating      and yet don’t look too good  nor talk too wise\"\n",
    "print(verse, '\\n')\n",
    "\n",
    "# split verse into list of words\n",
    "verse_list = verse.split()\n",
    "print(verse_list, '\\n')\n",
    "\n",
    "# convert list to a data structure that stores unique elements\n",
    "verse_set = set(verse_list)\n",
    "print(verse_set, '\\n')\n",
    "\n",
    "# print the number of unique words\n",
    "num_unique = len(verse_set)\n",
    "print(num_unique, '\\n')"
   ]
  },
  {
   "cell_type": "code",
   "execution_count": 147,
   "metadata": {},
   "outputs": [
    {
     "name": "stdout",
     "output_type": "stream",
     "text": [
      "{'if': 3, 'you': 6, 'can': 3, 'keep': 1, 'your': 1, 'head': 1, 'when': 2, 'all': 2, 'about': 2, 'are': 1, 'losing': 1, 'theirs': 1, 'and': 3, 'blaming': 1, 'it': 1, 'on': 1, 'trust': 1, 'yourself': 1, 'men': 1, 'doubt': 1, 'but': 1, 'make': 1, 'allowance': 1, 'for': 1, 'their': 1, 'doubting': 1, 'too': 3, 'wait': 1, 'not': 1, 'be': 1, 'tired': 1, 'by': 1, 'waiting': 1, 'or': 2, 'being': 2, 'lied': 1, \"don't\": 3, 'deal': 1, 'in': 1, 'lies': 1, 'hated': 1, 'give': 1, 'way': 1, 'to': 1, 'hating': 1, 'yet': 1, 'look': 1, 'good': 1, 'nor': 1, 'talk': 1, 'wise': 1} \n",
      "\n",
      "51\n",
      "False\n",
      "about\n",
      "yourself\n"
     ]
    }
   ],
   "source": [
    "verse_dict =  {'if': 3, 'you': 6, 'can': 3, 'keep': 1, 'your': 1, 'head': 1, 'when': 2, 'all': 2, 'about': 2, 'are': 1, 'losing': 1, 'theirs': 1, 'and': 3, 'blaming': 1, 'it': 1, 'on': 1, 'trust': 1, 'yourself': 1, 'men': 1, 'doubt': 1, 'but': 1, 'make': 1, 'allowance': 1, 'for': 1, 'their': 1, 'doubting': 1, 'too': 3, 'wait': 1, 'not': 1, 'be': 1, 'tired': 1, 'by': 1, 'waiting': 1, 'or': 2, 'being': 2, 'lied': 1, 'don\\'t': 3, 'deal': 1, 'in': 1, 'lies': 1, 'hated': 1, 'give': 1, 'way': 1, 'to': 1, 'hating': 1, 'yet': 1, 'look': 1, 'good': 1, 'nor': 1, 'talk': 1, 'wise': 1}\n",
    "print(verse_dict, '\\n')\n",
    "\n",
    "# find number of unique keys in the dictionary\n",
    "num_keys = len(verse_dict)\n",
    "print(num_keys)\n",
    "\n",
    "# find whether 'breathe' is a key in the dictionary\n",
    "contains_breathe = \"breathe\" in verse_dict\n",
    "print(contains_breathe)\n",
    "\n",
    "# create and sort a list of the dictionary's keys\n",
    "sorted_keys = sorted(verse_dict.keys())\n",
    "\n",
    "# get the first element in the sorted list of keys\n",
    "print(sorted_keys[0])\n",
    "\n",
    "# find the element with the highest value in the list of keys\n",
    "print(sorted_keys[-1]) "
   ]
  },
  {
   "cell_type": "code",
   "execution_count": 148,
   "metadata": {},
   "outputs": [],
   "source": [
    "# Data Structure        \tOrdered\t        Mutable         \tConstructor             \tExample\n",
    "# List\t                    Yes         \tYes\t                [ ] or list()           \t[5.7, 4, 'yes', 5.7]\n",
    "# Tuple                 \tYes            \tNo              \t( ) or tuple()          \t(5.7, 4, 'yes', 5.7)\n",
    "# Set                   \tNo          \tYes             \t{}* or set()            \t{5.7, 4, 'yes'}\n",
    "# Dictionary            \tNo             \tNo**            \t{ } or dict()           \t{'Jun': 75, 'Jul': 89}"
   ]
  },
  {
   "cell_type": "markdown",
   "metadata": {},
   "source": [
    "### Lesson 4: Control Flow"
   ]
  },
  {
   "cell_type": "code",
   "execution_count": 149,
   "metadata": {},
   "outputs": [
    {
     "name": "stdout",
     "output_type": "stream",
     "text": [
      "harvest the garden!\n"
     ]
    }
   ],
   "source": [
    "# If, elif, else statement\n",
    "season = 'fall'\n",
    "if season == 'spring':\n",
    "    print('plant the garden!')\n",
    "elif season == 'summer':\n",
    "    print('water the garden!')\n",
    "elif season == 'fall':\n",
    "    print('harvest the garden!')\n",
    "elif season == 'winter':\n",
    "    print('stay indoors!')\n",
    "else:\n",
    "    print('unrecognized season')"
   ]
  },
  {
   "cell_type": "code",
   "execution_count": 150,
   "metadata": {},
   "outputs": [
    {
     "name": "stdout",
     "output_type": "stream",
     "text": [
      "10\n",
      "50\n",
      "Number 145 is odd.\n",
      "Somebody who is 35 years old will pay $2.5 to ride the bus.\n"
     ]
    }
   ],
   "source": [
    "#First Example - try changing the value of phone_balance\n",
    "phone_balance = 10\n",
    "bank_balance = 50\n",
    "\n",
    "if phone_balance < 10:\n",
    "    phone_balance += 10\n",
    "    bank_balance -= 10\n",
    "\n",
    "print(phone_balance)\n",
    "print(bank_balance)\n",
    "\n",
    "#Second Example - try changing the value of number\n",
    "\n",
    "number = 145\n",
    "if number % 2 == 0:\n",
    "    print(\"Number \" + str(number) + \" is even.\")\n",
    "else:\n",
    "    print(\"Number \" + str(number) + \" is odd.\")\n",
    "\n",
    "#Third Example - try to change the value of age\n",
    "age = 35\n",
    "\n",
    "# Here are the age limits for bus fares\n",
    "free_up_to_age = 4\n",
    "child_up_to_age = 18\n",
    "senior_from_age = 65\n",
    "\n",
    "# These lines determine the bus fare prices\n",
    "concession_ticket = 1.25\n",
    "adult_ticket = 2.50\n",
    "\n",
    "# Here is the logic for bus fare prices\n",
    "if age <= free_up_to_age:\n",
    "    ticket_price = 0\n",
    "elif age <= child_up_to_age:\n",
    "    ticket_price = concession_ticket\n",
    "elif age >= senior_from_age:\n",
    "    ticket_price = concession_ticket\n",
    "else:\n",
    "    ticket_price = adult_ticket\n",
    "\n",
    "message = \"Somebody who is {} years old will pay ${} to ride the bus.\".format(age, ticket_price)\n",
    "print(message)"
   ]
  },
  {
   "cell_type": "code",
   "execution_count": 151,
   "metadata": {},
   "outputs": [
    {
     "name": "stdout",
     "output_type": "stream",
     "text": [
      "Oops!  Your guess was too high.\n"
     ]
    }
   ],
   "source": [
    "# '''\n",
    "# You decide you want to play a game where you are hiding \n",
    "# a number from someone.  Store this number in a variable \n",
    "# called 'answer'.  Another user provides a number called\n",
    "# 'guess'.  By comparing guess to answer, you inform the user\n",
    "# if their guess is too high or too low.\n",
    "\n",
    "# Fill in the conditionals below to inform the user about how\n",
    "# their guess compares to the answer.\n",
    "# '''\n",
    "answer = 23\n",
    "guess = 34\n",
    "\n",
    "if answer > guess:\n",
    "    result = \"Oops!  Your guess was too low.\"\n",
    "elif answer < guess:\n",
    "    result = \"Oops!  Your guess was too high.\"\n",
    "elif answer == guess:\n",
    "    result = \"Nice!  Your guess matched the answer!\"\n",
    "\n",
    "print(result)"
   ]
  },
  {
   "cell_type": "code",
   "execution_count": 152,
   "metadata": {},
   "outputs": [
    {
     "name": "stdout",
     "output_type": "stream",
     "text": [
      "Since you're from CA, your total cost is 107.5.\n"
     ]
    }
   ],
   "source": [
    "# '''\n",
    "# Depending on where an individual is from we need to tax them \n",
    "# appropriately.  The states of CA, MN, and \n",
    "# NY have taxes of 7.5%, 9.5%, and 8.9% respectively.\n",
    "# Use this information to take the amount of a purchase and \n",
    "# the corresponding state to assure that they are taxed by the right\n",
    "# amount.\n",
    "# '''\n",
    "state = 'CA'\n",
    "purchase_amount = 100\n",
    "\n",
    "if state == 'CA':\n",
    "    tax_amount = .075\n",
    "    total_cost = purchase_amount*(1+tax_amount)\n",
    "    result = \"Since you're from {}, your total cost is {}.\".format(state, total_cost)\n",
    "\n",
    "elif state == 'MN':\n",
    "    tax_amount = .095\n",
    "    total_cost = purchase_amount*(1+tax_amount)\n",
    "    result = \"Since you're from {}, your total cost is {}.\".format(state, total_cost)\n",
    "\n",
    "elif state == 'NY':\n",
    "    tax_amount = .089\n",
    "    total_cost = purchase_amount*(1+tax_amount)\n",
    "    result = \"Since you're from {}, your total cost is {}.\".format(state, total_cost)\n",
    "\n",
    "print(result)"
   ]
  },
  {
   "cell_type": "code",
   "execution_count": 153,
   "metadata": {},
   "outputs": [
    {
     "name": "stdout",
     "output_type": "stream",
     "text": [
      "Is there a rainbow?\n"
     ]
    }
   ],
   "source": [
    "# Complex Boolean Variable\n",
    "weight = 3\n",
    "is_raining = True\n",
    "is_sunny = True\n",
    "unsubscribed = True\n",
    "location = 'USA'\n",
    "\n",
    "if 18.5 <= weight / height**2 < 25:\n",
    "    print(\"BMI is considered 'normal'\")\n",
    "\n",
    "if is_raining and is_sunny:\n",
    "    print(\"Is there a rainbow?\")\n",
    "\n",
    "if (not unsubscribed) and (location == \"USA\" or location == \"CAN\"):\n",
    "    print(\"send email\")"
   ]
  },
  {
   "cell_type": "code",
   "execution_count": 154,
   "metadata": {},
   "outputs": [
    {
     "name": "stdout",
     "output_type": "stream",
     "text": [
      "You have 3 errors to fix!\n"
     ]
    }
   ],
   "source": [
    "errors = 3\n",
    "if errors:\n",
    "    print(\"You have {} errors to fix!\".format(errors))\n",
    "else:\n",
    "    print(\"No errors to fix!\")"
   ]
  },
  {
   "cell_type": "code",
   "execution_count": 155,
   "metadata": {},
   "outputs": [
    {
     "name": "stdout",
     "output_type": "stream",
     "text": [
      "Congratulations! You won a wafer-thin mint!\n"
     ]
    }
   ],
   "source": [
    "points = 174\n",
    "\n",
    "if points <= 50:\n",
    "    result = \"Congratulations! You won a wooden rabbit!\"\n",
    "elif points <= 150:\n",
    "    result = \"Oh dear, no prize this time.\"\n",
    "elif points <= 180:\n",
    "    result = \"Congratulations! You won a wafer-thin mint!\"\n",
    "else:\n",
    "    result = \"Congratulations! You won a penguin!\"\n",
    "\n",
    "print(result)"
   ]
  },
  {
   "cell_type": "code",
   "execution_count": 156,
   "metadata": {},
   "outputs": [
    {
     "name": "stdout",
     "output_type": "stream",
     "text": [
      "Congratulations! You won a wafer-thin mint!\n"
     ]
    }
   ],
   "source": [
    "points = 174\n",
    "\n",
    "points = 174  # use this input when submitting your answer\n",
    "\n",
    "# set prize to default value of None\n",
    "prize = None\n",
    "\n",
    "# use the value of points to assign prize to the correct prize name\n",
    "if points <= 50:\n",
    "    prize = \"wooden rabbit\"\n",
    "elif 151 <= points <= 180:\n",
    "    prize = \"wafer-thin mint\"\n",
    "elif points >= 181:\n",
    "    prize = \"penguin\"\n",
    "\n",
    "# use the truth value of prize to assign result to the correct message\n",
    "if prize:\n",
    "    result = \"Congratulations! You won a {}!\".format(prize)\n",
    "else:\n",
    "    result = \"Oh dear, no prize this time.\"\n",
    "\n",
    "print(result)"
   ]
  },
  {
   "cell_type": "code",
   "execution_count": 157,
   "metadata": {},
   "outputs": [
    {
     "name": "stdout",
     "output_type": "stream",
     "text": [
      "['New York City', 'Mountain View', 'Chicago', 'Los Angeles']\n"
     ]
    }
   ],
   "source": [
    "# Range\n",
    "# Creating a new list\n",
    "cities = ['new york city', 'mountain view', 'chicago', 'los angeles']\n",
    "capitalized_cities = []\n",
    "\n",
    "for city in cities:\n",
    "    capitalized_cities.append(city.title())\n",
    "    \n",
    "print(capitalized_cities)"
   ]
  },
  {
   "cell_type": "code",
   "execution_count": 158,
   "metadata": {},
   "outputs": [
    {
     "name": "stdout",
     "output_type": "stream",
     "text": [
      "['New York City', 'Mountain View', 'Chicago', 'Los Angeles']\n"
     ]
    }
   ],
   "source": [
    "cities = ['new york city', 'mountain view', 'chicago', 'los angeles']\n",
    "\n",
    "for index in range(len(cities)):\n",
    "    cities[index] = cities[index].title()\n",
    "\n",
    "print(cities)"
   ]
  },
  {
   "cell_type": "code",
   "execution_count": 159,
   "metadata": {},
   "outputs": [
    {
     "name": "stdout",
     "output_type": "stream",
     "text": [
      "the\n",
      "quick\n",
      "brown\n",
      "fox\n",
      "jumped\n",
      "over\n",
      "the\n",
      "lazy\n",
      "dog\n"
     ]
    }
   ],
   "source": [
    "sentence = [\"the\", \"quick\", \"brown\", \"fox\", \"jumped\", \"over\", \"the\", \"lazy\", \"dog\"]\n",
    "\n",
    "for word in sentence:\n",
    "    print(word)"
   ]
  },
  {
   "cell_type": "code",
   "execution_count": 160,
   "metadata": {},
   "outputs": [
    {
     "name": "stdout",
     "output_type": "stream",
     "text": [
      "5\n",
      "10\n",
      "15\n",
      "20\n",
      "25\n",
      "30\n"
     ]
    }
   ],
   "source": [
    "for i in range(5, 35, 5):\n",
    "    print(i)"
   ]
  },
  {
   "cell_type": "code",
   "execution_count": 161,
   "metadata": {},
   "outputs": [
    {
     "name": "stdout",
     "output_type": "stream",
     "text": [
      "['joey_tribbiani', 'monica_geller', 'chandler_bing', 'phoebe_buffay']\n"
     ]
    }
   ],
   "source": [
    "names = [\"Joey Tribbiani\", \"Monica Geller\", \"Chandler Bing\", \"Phoebe Buffay\"]\n",
    "usernames = []\n",
    "\n",
    "for name in names:\n",
    "    usernames.append(name.lower().replace(\" \", \"_\"))\n",
    "\n",
    "print(usernames)"
   ]
  },
  {
   "cell_type": "code",
   "execution_count": 162,
   "metadata": {},
   "outputs": [
    {
     "name": "stdout",
     "output_type": "stream",
     "text": [
      "['joey_tribbiani', 'monica_geller', 'chandler_bing', 'phoebe_buffay']\n"
     ]
    }
   ],
   "source": [
    "usernames = [\"Joey Tribbiani\", \"Monica Geller\", \"Chandler Bing\", \"Phoebe Buffay\"]\n",
    "\n",
    "for i in range(len(usernames)):\n",
    "    usernames[i] = usernames[i].lower().replace(\" \", \"_\")\n",
    "\n",
    "print(usernames)"
   ]
  },
  {
   "cell_type": "code",
   "execution_count": 163,
   "metadata": {},
   "outputs": [
    {
     "name": "stdout",
     "output_type": "stream",
     "text": [
      "2\n"
     ]
    }
   ],
   "source": [
    "tokens = ['<greeting>', 'Hello World!', '</greeting>']\n",
    "\n",
    "count = 0\n",
    "for token in tokens:\n",
    "    if token[0] == '<' and token[-1] == '>':\n",
    "        count += 1\n",
    "\n",
    "print(count)"
   ]
  },
  {
   "cell_type": "code",
   "execution_count": 164,
   "metadata": {},
   "outputs": [
    {
     "name": "stdout",
     "output_type": "stream",
     "text": [
      "<ul>\n",
      "<li>first string</li>\n",
      "<li>second string</li>\n",
      "</ul>\n"
     ]
    }
   ],
   "source": [
    "items = ['first string', 'second string']\n",
    "html_str = \"<ul>\\n\"          # The \"\\n\" here is the end-of-line char, causing\n",
    "                             # chars after this in html_str to be on next line\n",
    "\n",
    "for item in items:\n",
    "    html_str += \"<li>{}</li>\\n\".format(item)\n",
    "html_str += \"</ul>\"\n",
    "\n",
    "print(html_str)"
   ]
  },
  {
   "cell_type": "code",
   "execution_count": 165,
   "metadata": {},
   "outputs": [
    {
     "name": "stdout",
     "output_type": "stream",
     "text": [
      "Iterating through keys:\n",
      "Jerry Seinfeld\n",
      "Julia Louis-Dreyfus\n",
      "Jason Alexander\n",
      "Michael Richards\n",
      "\n",
      "Iterating through keys and values:\n",
      "Actor: Jerry Seinfeld    Role: Jerry Seinfeld\n",
      "Actor: Julia Louis-Dreyfus    Role: Elaine Benes\n",
      "Actor: Jason Alexander    Role: George Costanza\n",
      "Actor: Michael Richards    Role: Cosmo Kramer\n"
     ]
    }
   ],
   "source": [
    "cast = {\n",
    "           \"Jerry Seinfeld\": \"Jerry Seinfeld\",\n",
    "           \"Julia Louis-Dreyfus\": \"Elaine Benes\",\n",
    "           \"Jason Alexander\": \"George Costanza\",\n",
    "           \"Michael Richards\": \"Cosmo Kramer\"\n",
    "       }\n",
    "\n",
    "print(\"Iterating through keys:\")\n",
    "for key in cast:\n",
    "    print(key)\n",
    "\n",
    "print(\"\\nIterating through keys and values:\")\n",
    "for key, value in cast.items():\n",
    "    print(\"Actor: {}    Role: {}\".format(key, value))"
   ]
  },
  {
   "cell_type": "code",
   "execution_count": 166,
   "metadata": {},
   "outputs": [
    {
     "name": "stdout",
     "output_type": "stream",
     "text": [
      "23\n"
     ]
    }
   ],
   "source": [
    "# You would like to count the number of fruits in your basket. \n",
    "# In order to do this, you have the following dictionary and list of\n",
    "# fruits.  Use the dictionary and list to count the total number\n",
    "# of fruits, but you do not want to count the other items in your basket.\n",
    "\n",
    "result = 0\n",
    "basket_items = {'apples': 4, 'oranges': 19, 'kites': 3, 'sandwiches': 8}\n",
    "fruits = ['apples', 'oranges', 'pears', 'peaches', 'grapes', 'bananas']\n",
    "\n",
    "#Iterate through the dictionary\n",
    "for key, value in basket_items.items():\n",
    "    if key in fruits:\n",
    "        result=result+value\n",
    "#if the key is in the list of fruits, add the value (number of fruits) to result\n",
    "\n",
    "\n",
    "print(result)"
   ]
  },
  {
   "cell_type": "code",
   "execution_count": 167,
   "metadata": {},
   "outputs": [
    {
     "name": "stdout",
     "output_type": "stream",
     "text": [
      "28\n",
      "9\n",
      "4\n"
     ]
    }
   ],
   "source": [
    "#Example 1\n",
    "\n",
    "result = 0\n",
    "basket_items = {'pears': 5, 'grapes': 19, 'kites': 3, 'sandwiches': 8, 'bananas': 4}\n",
    "fruits = ['apples', 'oranges', 'pears', 'peaches', 'grapes', 'bananas']\n",
    "\n",
    "# Your previous solution here\n",
    "for key, value in basket_items.items():\n",
    "    if key in fruits:\n",
    "        result += value\n",
    "print(result)\n",
    "\n",
    "#Example 2\n",
    "\n",
    "result = 0\n",
    "basket_items = {'peaches': 5, 'lettuce': 2, 'kites': 3, 'sandwiches': 8, 'pears': 4}\n",
    "fruits = ['apples', 'oranges', 'pears', 'peaches', 'grapes', 'bananas']\n",
    "\n",
    "# Your previous solution here\n",
    "for key, value in basket_items.items():\n",
    "    if key in fruits:\n",
    "        result += value\n",
    "print(result)\n",
    "\n",
    "\n",
    "#Example 3\n",
    "\n",
    "result = 0\n",
    "basket_items = {'lettuce': 2, 'kites': 3, 'sandwiches': 8, 'pears': 4, 'bears': 10}\n",
    "fruits = ['apples', 'oranges', 'pears', 'peaches', 'grapes', 'bananas']\n",
    "\n",
    "# Your previous solution here\n",
    "for key, value in basket_items.items():\n",
    "    if key in fruits:\n",
    "        result += value\n",
    "print(result)\n"
   ]
  },
  {
   "cell_type": "code",
   "execution_count": 168,
   "metadata": {},
   "outputs": [
    {
     "name": "stdout",
     "output_type": "stream",
     "text": [
      "23 11\n"
     ]
    }
   ],
   "source": [
    "# You would like to count the number of fruits in your basket. \n",
    "# In order to do this, you have the following dictionary and list of\n",
    "# fruits.  Use the dictionary and list to count the total number\n",
    "# of fruits and not_fruits.\n",
    "\n",
    "fruit_count, not_fruit_count = 0, 0\n",
    "basket_items = {'apples': 4, 'oranges': 19, 'kites': 3, 'sandwiches': 8}\n",
    "fruits = ['apples', 'oranges', 'pears', 'peaches', 'grapes', 'bananas']\n",
    "\n",
    "#Iterate through the dictionary\n",
    "for key, value in basket_items.items():\n",
    "#if the key is in the list of fruits, add to fruit_count.\n",
    "    if key in fruits:\n",
    "        fruit_count += value\n",
    "#if the key is not in the list, then add to the not_fruit_count\n",
    "    else:\n",
    "        not_fruit_count += value\n",
    "\n",
    "print(fruit_count, not_fruit_count)"
   ]
  },
  {
   "cell_type": "code",
   "execution_count": 169,
   "metadata": {},
   "outputs": [
    {
     "name": "stdout",
     "output_type": "stream",
     "text": [
      "[10, 8]\n"
     ]
    }
   ],
   "source": [
    "# While Loop\n",
    "card_deck = [4, 11, 8, 5, 13, 2, 8, 10]\n",
    "hand = []\n",
    "\n",
    "# adds the last element of the card_deck list to the hand list\n",
    "# until the values in hand add up to 17 or more\n",
    "while sum(hand)  < 17:\n",
    "    hand.append(card_deck.pop())\n",
    "print(hand)"
   ]
  },
  {
   "cell_type": "code",
   "execution_count": 170,
   "metadata": {},
   "outputs": [
    {
     "name": "stdout",
     "output_type": "stream",
     "text": [
      "720\n"
     ]
    }
   ],
   "source": [
    "# number to find the factorial of\n",
    "number = 6   \n",
    "\n",
    "# start with our product equal to one\n",
    "product = 1\n",
    "\n",
    "# track the current number being multiplied\n",
    "current = 1\n",
    "\n",
    "# write your while loop here\n",
    "while current <= number:\n",
    "    \n",
    "    # multiply the product so far by the current number\n",
    "    product = product * current\n",
    "    \n",
    "    # increment current with each iteration until it reaches number\n",
    "    current = current + 1\n",
    "\n",
    "\n",
    "# print the factorial of number\n",
    "print(product)"
   ]
  },
  {
   "cell_type": "code",
   "execution_count": 171,
   "metadata": {},
   "outputs": [
    {
     "name": "stdout",
     "output_type": "stream",
     "text": [
      "720\n"
     ]
    }
   ],
   "source": [
    "# number to find the factorial of\n",
    "number = 6   \n",
    "\n",
    "# start with our product equal to one\n",
    "product = 1\n",
    "\n",
    "# write your for loop here\n",
    "for i in range(1, number+1):\n",
    "    product = product * i\n",
    "\n",
    "\n",
    "# print the factorial of number\n",
    "print(product)"
   ]
  },
  {
   "cell_type": "code",
   "execution_count": 172,
   "metadata": {},
   "outputs": [
    {
     "name": "stdout",
     "output_type": "stream",
     "text": [
      "101\n"
     ]
    }
   ],
   "source": [
    "start_num = 5\n",
    "end_num = 100\n",
    "count_by = 2\n",
    "\n",
    "break_num = start_num\n",
    "while break_num < end_num:\n",
    "    break_num += count_by\n",
    "\n",
    "print(break_num)"
   ]
  },
  {
   "cell_type": "code",
   "execution_count": 173,
   "metadata": {},
   "outputs": [
    {
     "name": "stdout",
     "output_type": "stream",
     "text": [
      "101\n"
     ]
    }
   ],
   "source": [
    "start_num = 5\n",
    "end_num = 100\n",
    "count_by = 2\n",
    "\n",
    "if start_num > end_num:\n",
    "    result = \"Oops! Looks like your start value is greater than the end value. Please try again.\"\n",
    "\n",
    "else:\n",
    "    break_num = start_num\n",
    "    while break_num < end_num:\n",
    "        break_num += count_by\n",
    "\n",
    "    result = break_num\n",
    "\n",
    "print(result)"
   ]
  },
  {
   "cell_type": "code",
   "execution_count": 174,
   "metadata": {},
   "outputs": [
    {
     "name": "stdout",
     "output_type": "stream",
     "text": [
      "36\n"
     ]
    }
   ],
   "source": [
    "limit = 40\n",
    "\n",
    "num = 0\n",
    "while (num+1)**2 < limit:\n",
    "    num += 1\n",
    "nearest_square = num**2\n",
    "\n",
    "print(nearest_square)"
   ]
  },
  {
   "cell_type": "code",
   "execution_count": 175,
   "metadata": {},
   "outputs": [
    {
     "name": "stdout",
     "output_type": "stream",
     "text": [
      "The numbers of odd numbers added are: 5\n",
      "The sum of the odd numbers added is: 993\n"
     ]
    }
   ],
   "source": [
    "num_list = [422, 136, 524, 85, 96, 719, 85, 92, 10, 17, 312, 542, 87, 23, 86, 191, 116, 35, 173, 45, 149, 59, 84, 69, 113, 166]\n",
    "\n",
    "count_odd = 0\n",
    "list_sum = 0\n",
    "i = 0\n",
    "len_num_list = len(num_list)\n",
    "\n",
    "while (count_odd < 5) and (i < len_num_list): \n",
    "    if num_list[i] % 2 != 0:\n",
    "        list_sum += num_list[i]\n",
    "        count_odd += 1\n",
    "    i += 1\n",
    "\n",
    "print (\"The numbers of odd numbers added are: {}\".format(count_odd))\n",
    "print (\"The sum of the odd numbers added is: {}\".format(list_sum))"
   ]
  },
  {
   "cell_type": "code",
   "execution_count": 176,
   "metadata": {},
   "outputs": [
    {
     "name": "stdout",
     "output_type": "stream",
     "text": [
      "METHOD 1\n",
      "current weight: 0\n",
      "  adding bananas (15)\n",
      "current weight: 15\n",
      "  adding mattresses (24)\n",
      "current weight: 39\n",
      "  adding dog kennels (42)\n",
      "current weight: 81\n",
      "  adding machine (120)\n",
      "current weight: 201\n",
      "  breaking loop now!\n",
      "\n",
      "Final Weight: 201\n",
      "Final Items: ['bananas', 'mattresses', 'dog kennels', 'machine']\n",
      "\n",
      "METHOD 2\n",
      "current weight: 0\n",
      "  adding bananas (15)\n",
      "current weight: 15\n",
      "  adding mattresses (24)\n",
      "current weight: 39\n",
      "  adding dog kennels (42)\n",
      "current weight: 81\n",
      "  skipping machine (120)\n",
      "current weight: 81\n",
      "  adding cheeses (5)\n",
      "\n",
      "Final Weight: 86\n",
      "Final Items: ['bananas', 'mattresses', 'dog kennels', 'cheeses']\n"
     ]
    }
   ],
   "source": [
    "manifest = [(\"bananas\", 15), (\"mattresses\", 24), (\"dog kennels\", 42), (\"machine\", 120), (\"cheeses\", 5)]\n",
    "\n",
    "# the code breaks the loop when weight exceeds or reaches the limit\n",
    "print(\"METHOD 1\")\n",
    "weight = 0\n",
    "items = []\n",
    "for cargo_name, cargo_weight in manifest:\n",
    "    print(\"current weight: {}\".format(weight))\n",
    "    if weight >= 100:\n",
    "        print(\"  breaking loop now!\")\n",
    "        break\n",
    "    else:\n",
    "        print(\"  adding {} ({})\".format(cargo_name, cargo_weight))\n",
    "        items.append(cargo_name)\n",
    "        weight += cargo_weight\n",
    "\n",
    "print(\"\\nFinal Weight: {}\".format(weight))\n",
    "print(\"Final Items: {}\".format(items))\n",
    "\n",
    "# skips an iteration when adding an item would exceed the limit\n",
    "# breaks the loop if weight is exactly the value of the limit\n",
    "print(\"\\nMETHOD 2\")\n",
    "weight = 0\n",
    "items = []\n",
    "for cargo_name, cargo_weight in manifest:\n",
    "    print(\"current weight: {}\".format(weight))\n",
    "    if weight >= 100:\n",
    "        print(\"  breaking from the loop now!\")\n",
    "        break\n",
    "    elif weight + cargo_weight > 100:\n",
    "        print(\"  skipping {} ({})\".format(cargo_name, cargo_weight))\n",
    "        continue\n",
    "    else:\n",
    "        print(\"  adding {} ({})\".format(cargo_name, cargo_weight))\n",
    "        items.append(cargo_name)\n",
    "        weight += cargo_weight\n",
    "\n",
    "print(\"\\nFinal Weight: {}\".format(weight))\n",
    "print(\"Final Items: {}\".format(items))"
   ]
  },
  {
   "cell_type": "code",
   "execution_count": 177,
   "metadata": {},
   "outputs": [
    {
     "name": "stdout",
     "output_type": "stream",
     "text": [
      "Local Bear Eaten by Man Legislature Announces New Laws Peasant Discovers Violence Inherent in System Cat Rescues Fireman Stuck in Tree Brave\n"
     ]
    }
   ],
   "source": [
    "# HINT: modify the headlines list to verify your loop works with different inputs\n",
    "headlines = [\"Local Bear Eaten by Man\",\n",
    "             \"Legislature Announces New Laws\",\n",
    "             \"Peasant Discovers Violence Inherent in System\",\n",
    "             \"Cat Rescues Fireman Stuck in Tree\",\n",
    "             \"Brave Knight Runs Away\",\n",
    "             \"Papperbok Review: Totally Triffic\"]\n",
    "\n",
    "news_ticker = \"\"\n",
    "for headline in headlines:\n",
    "    news_ticker += headline + \" \"\n",
    "    if len(news_ticker) >= 140:\n",
    "        news_ticker = news_ticker[:140]\n",
    "        break\n",
    "\n",
    "\n",
    "print(news_ticker)"
   ]
  },
  {
   "cell_type": "code",
   "execution_count": 178,
   "metadata": {},
   "outputs": [
    {
     "name": "stdout",
     "output_type": "stream",
     "text": [
      "26 is NOT a prime number, because 2 is a factor of 26\n",
      "39 is NOT a prime number, because 3 is a factor of 39\n",
      "51 is NOT a prime number, because 3 is a factor of 51\n",
      "53 IS a prime number\n",
      "57 is NOT a prime number, because 3 is a factor of 57\n",
      "79 IS a prime number\n",
      "85 is NOT a prime number, because 5 is a factor of 85\n"
     ]
    }
   ],
   "source": [
    "check_prime = [26, 39, 51, 53, 57, 79, 85]\n",
    "\n",
    "# iterate through the check_prime list\n",
    "for num in check_prime:\n",
    "\n",
    "# search for factors, iterating through numbers ranging from 2 to the number itself\n",
    "    for i in range(2, num):\n",
    "\n",
    "# number is not prime if modulo is 0\n",
    "        if (num % i) == 0:\n",
    "            print(\"{} is NOT a prime number, because {} is a factor of {}\".format(num, i, num))\n",
    "            break\n",
    "\n",
    "# otherwise keep checking until we've searched all possible factors, and then declare it prime\n",
    "        if i == num -1:    \n",
    "            print(\"{} IS a prime number\".format(num))"
   ]
  },
  {
   "cell_type": "code",
   "execution_count": 179,
   "metadata": {},
   "outputs": [
    {
     "name": "stdout",
     "output_type": "stream",
     "text": [
      "a: 1\n",
      "b: 2\n",
      "c: 3\n"
     ]
    }
   ],
   "source": [
    "# Zip and Enumerate\n",
    "letters = ['a', 'b', 'c']\n",
    "nums = [1, 2, 3]\n",
    "\n",
    "for letter, num in zip(letters, nums):\n",
    "    print(\"{}: {}\".format(letter, num))"
   ]
  },
  {
   "cell_type": "code",
   "execution_count": 180,
   "metadata": {},
   "outputs": [
    {
     "name": "stdout",
     "output_type": "stream",
     "text": [
      "('a', 'b', 'c') (1, 2, 3)\n"
     ]
    }
   ],
   "source": [
    "some_list = [('a', 1), ('b', 2), ('c', 3)]\n",
    "letters, nums = zip(*some_list)\n",
    "print(letters, nums)"
   ]
  },
  {
   "cell_type": "code",
   "execution_count": 181,
   "metadata": {},
   "outputs": [
    {
     "name": "stdout",
     "output_type": "stream",
     "text": [
      "0 a\n",
      "1 b\n",
      "2 c\n",
      "3 d\n",
      "4 e\n"
     ]
    }
   ],
   "source": [
    "letters = ['a', 'b', 'c', 'd', 'e']\n",
    "for i, letter in enumerate(letters):\n",
    "    print(i, letter)"
   ]
  },
  {
   "cell_type": "code",
   "execution_count": 182,
   "metadata": {},
   "outputs": [
    {
     "name": "stdout",
     "output_type": "stream",
     "text": [
      "F: 23, 677, 4\n",
      "J: 53, 233, 16\n",
      "A: 2, 405, -6\n",
      "Q: -12, 433, -42\n",
      "Y: 95, 905, 3\n",
      "B: 103, 376, -6\n",
      "W: 14, 432, 23\n",
      "X: -5, 445, -1\n"
     ]
    }
   ],
   "source": [
    "x_coord = [23, 53, 2, -12, 95, 103, 14, -5]\n",
    "y_coord = [677, 233, 405, 433, 905, 376, 432, 445]\n",
    "z_coord = [4, 16, -6, -42, 3, -6, 23, -1]\n",
    "labels = [\"F\", \"J\", \"A\", \"Q\", \"Y\", \"B\", \"W\", \"X\"]\n",
    "\n",
    "points = []\n",
    "# write your for loop here\n",
    "for point in zip(labels, x_coord, y_coord, z_coord):\n",
    "    points.append(\"{}: {}, {}, {}\".format(*point))\n",
    "\n",
    "for point in points:\n",
    "    print(point)"
   ]
  },
  {
   "cell_type": "code",
   "execution_count": 183,
   "metadata": {},
   "outputs": [
    {
     "name": "stdout",
     "output_type": "stream",
     "text": [
      "{'Barney': 72, 'Robin': 68, 'Ted': 72, 'Lily': 66, 'Marshall': 76}\n"
     ]
    }
   ],
   "source": [
    "cast_names = [\"Barney\", \"Robin\", \"Ted\", \"Lily\", \"Marshall\"]\n",
    "cast_heights = [72, 68, 72, 66, 76]\n",
    "\n",
    "cast = {name: height for name, height in zip(cast_names, cast_heights)}\n",
    "print(cast)"
   ]
  },
  {
   "cell_type": "code",
   "execution_count": 184,
   "metadata": {},
   "outputs": [
    {
     "name": "stdout",
     "output_type": "stream",
     "text": [
      "('Barney', 'Robin', 'Ted', 'Lily', 'Marshall')\n",
      "(72, 68, 72, 66, 76)\n"
     ]
    }
   ],
   "source": [
    "cast = ((\"Barney\", 72), (\"Robin\", 68), (\"Ted\", 72), (\"Lily\", 66), (\"Marshall\", 76))\n",
    "\n",
    "# define names and heights here\n",
    "names, heights  = zip(*cast)\n",
    "\n",
    "print(names)\n",
    "print(heights)"
   ]
  },
  {
   "cell_type": "code",
   "execution_count": 185,
   "metadata": {},
   "outputs": [
    {
     "name": "stdout",
     "output_type": "stream",
     "text": [
      "((0, 3, 6, 9), (1, 4, 7, 10), (2, 5, 8, 11))\n"
     ]
    }
   ],
   "source": [
    "data = ((0, 1, 2), (3, 4, 5), (6, 7, 8), (9, 10, 11))\n",
    "\n",
    "data_transpose = tuple(zip(*data))\n",
    "print(data_transpose)"
   ]
  },
  {
   "cell_type": "code",
   "execution_count": 186,
   "metadata": {},
   "outputs": [
    {
     "name": "stdout",
     "output_type": "stream",
     "text": [
      "['Barney Stinson 72', 'Robin Scherbatsky 68', 'Ted Mosby 72', 'Lily Aldrin 66', 'Marshall Eriksen 76']\n"
     ]
    }
   ],
   "source": [
    "cast = [\"Barney Stinson\", \"Robin Scherbatsky\", \"Ted Mosby\", \"Lily Aldrin\", \"Marshall Eriksen\"]\n",
    "heights = [72, 68, 72, 66, 76]\n",
    "\n",
    "# write your for loop here\n",
    "for i, item in enumerate(cast):\n",
    "    cast[i] = item + \" \" + str(heights[i])\n",
    "\n",
    "print(cast)"
   ]
  },
  {
   "cell_type": "code",
   "execution_count": 187,
   "metadata": {},
   "outputs": [
    {
     "name": "stdout",
     "output_type": "stream",
     "text": [
      "['New York City', 'Mountain View', 'Chicago', 'Los Angeles']\n"
     ]
    }
   ],
   "source": [
    "# List Comprehension\n",
    "capitalized_cities = []\n",
    "for city in cities:\n",
    "    capitalized_cities.append(city.title())\n",
    "print(capitalized_cities)"
   ]
  },
  {
   "cell_type": "code",
   "execution_count": 188,
   "metadata": {},
   "outputs": [
    {
     "data": {
      "text/plain": [
       "[0, 4, 16, 36, 64]"
      ]
     },
     "execution_count": 188,
     "metadata": {},
     "output_type": "execute_result"
    }
   ],
   "source": [
    "squares = [x**2 for x in range(9) if x % 2 == 0]\n",
    "squares"
   ]
  },
  {
   "cell_type": "code",
   "execution_count": 189,
   "metadata": {},
   "outputs": [
    {
     "data": {
      "text/plain": [
       "[0, 4, 4, 6, 16, 8, 36, 10, 64]"
      ]
     },
     "execution_count": 189,
     "metadata": {},
     "output_type": "execute_result"
    }
   ],
   "source": [
    "squares = [x**2 if x % 2 == 0 else x + 3 for x in range(9)]\n",
    "squares"
   ]
  },
  {
   "cell_type": "code",
   "execution_count": 190,
   "metadata": {},
   "outputs": [
    {
     "name": "stdout",
     "output_type": "stream",
     "text": [
      "['rick', 'morty', 'summer', 'jerry', 'beth']\n"
     ]
    }
   ],
   "source": [
    "names = [\"Rick Sanchez\", \"Morty Smith\", \"Summer Smith\", \"Jerry Smith\", \"Beth Smith\"]\n",
    "\n",
    "first_names = [name.split(' ')[0].lower() for name in names]\n",
    "print(first_names)"
   ]
  },
  {
   "cell_type": "code",
   "execution_count": 191,
   "metadata": {},
   "outputs": [
    {
     "name": "stdout",
     "output_type": "stream",
     "text": [
      "[3, 6, 9, 12, 15, 18, 21, 24, 27, 30, 33, 36, 39, 42, 45, 48, 51, 54, 57, 60]\n"
     ]
    }
   ],
   "source": [
    "multiples_3 = [i for i in range(3, 3*21) if i%3==0]\n",
    "print(multiples_3)"
   ]
  },
  {
   "cell_type": "code",
   "execution_count": 192,
   "metadata": {},
   "outputs": [
    {
     "name": "stdout",
     "output_type": "stream",
     "text": [
      "['Rick Sanchez', 'Summer Smith', 'Beth Smith']\n"
     ]
    }
   ],
   "source": [
    "scores = {\n",
    "             \"Rick Sanchez\": 70,\n",
    "             \"Morty Smith\": 35,\n",
    "             \"Summer Smith\": 82,\n",
    "             \"Jerry Smith\": 23,\n",
    "             \"Beth Smith\": 98\n",
    "          }\n",
    "\n",
    "passed = [key for key, value in scores.items() if value >= 65]\n",
    "print(passed)"
   ]
  },
  {
   "cell_type": "code",
   "execution_count": 193,
   "metadata": {},
   "outputs": [
    {
     "ename": "NameError",
     "evalue": "name 'nominated' is not defined",
     "output_type": "error",
     "traceback": [
      "\u001b[1;31m---------------------------------------------------------------------------\u001b[0m",
      "\u001b[1;31mNameError\u001b[0m                                 Traceback (most recent call last)",
      "\u001b[1;32md:\\Coding\\Udacity\\AI Python Programming Nano Degree\\Introduction to Python fo AI Programming.ipynb Cell 103\u001b[0m in \u001b[0;36m<cell line: 2>\u001b[1;34m()\u001b[0m\n\u001b[0;32m      <a href='vscode-notebook-cell:/d%3A/Coding/Udacity/AI%20Python%20Programming%20Nano%20Degree/Introduction%20to%20Python%20fo%20AI%20Programming.ipynb#Y204sZmlsZQ%3D%3D?line=0'>1</a>\u001b[0m nom_count_dict \u001b[39m=\u001b[39m {}\n\u001b[1;32m----> <a href='vscode-notebook-cell:/d%3A/Coding/Udacity/AI%20Python%20Programming%20Nano%20Degree/Introduction%20to%20Python%20fo%20AI%20Programming.ipynb#Y204sZmlsZQ%3D%3D?line=1'>2</a>\u001b[0m \u001b[39mfor\u001b[39;00m year, list_dir \u001b[39min\u001b[39;00m nominated\u001b[39m.\u001b[39mitems():\n\u001b[0;32m      <a href='vscode-notebook-cell:/d%3A/Coding/Udacity/AI%20Python%20Programming%20Nano%20Degree/Introduction%20to%20Python%20fo%20AI%20Programming.ipynb#Y204sZmlsZQ%3D%3D?line=2'>3</a>\u001b[0m     \u001b[39mfor\u001b[39;00m director \u001b[39min\u001b[39;00m list_dir:\n\u001b[0;32m      <a href='vscode-notebook-cell:/d%3A/Coding/Udacity/AI%20Python%20Programming%20Nano%20Degree/Introduction%20to%20Python%20fo%20AI%20Programming.ipynb#Y204sZmlsZQ%3D%3D?line=3'>4</a>\u001b[0m         \u001b[39mif\u001b[39;00m director \u001b[39mnot\u001b[39;00m \u001b[39min\u001b[39;00m nom_count_dict:\n",
      "\u001b[1;31mNameError\u001b[0m: name 'nominated' is not defined"
     ]
    }
   ],
   "source": [
    "nom_count_dict = {}\n",
    "for year, list_dir in nominated.items():\n",
    "    for director in list_dir:\n",
    "        if director not in nom_count_dict:\n",
    "            nom_count_dict[director] = 1\n",
    "        else:\n",
    "            nom_count_dict[director] += 1\n",
    "\n",
    "win_count_dict = {}\n",
    "for year, winnerlist in winners.items():\n",
    "    for winner in winnerlist:\n",
    "        win_count_dict[winner] = win_count_dict.get(winner, 0) + 1"
   ]
  },
  {
   "cell_type": "code",
   "execution_count": null,
   "metadata": {},
   "outputs": [],
   "source": [
    "#FIRST PART OF SOLUTION\n",
    "win_count_dict = {}\n",
    "for year, winnerlist in winners.items():\n",
    "    for winner in winnerlist:\n",
    "        win_count_dict[winner] = win_count_dict.get(winner, 0) + 1\n",
    "\n",
    "#SECOND PART OF SOLUTION\n",
    "highest_count = 0\n",
    "most_win_director = []\n",
    "\n",
    "for key, value in win_count_dict.items():\n",
    "    if value > highest_count:\n",
    "        highest_count = value\n",
    "        most_win_director.clear()\n",
    "        most_win_director.append(key)\n",
    "    elif value == highest_count:\n",
    "        most_win_director.append(key)\n",
    "    else:\n",
    "        continue\n",
    "    \n",
    "#ALTERNATIVE SECOND PART OF SOLUTION\n",
    "highest_count = max(win_count_dict.values())\n",
    "\n",
    "most_win_director = [key for key, value in win_count_dict.items() if value == highest_count]"
   ]
  },
  {
   "cell_type": "markdown",
   "metadata": {},
   "source": [
    "### Lesson 5: Functions"
   ]
  },
  {
   "cell_type": "code",
   "execution_count": 194,
   "metadata": {},
   "outputs": [],
   "source": [
    "def cylinder_volume(height, radius):\n",
    "    pi = 3.14159\n",
    "    return height * pi * radius ** 2"
   ]
  },
  {
   "cell_type": "code",
   "execution_count": 195,
   "metadata": {},
   "outputs": [
    {
     "data": {
      "text/plain": [
       "282.7431"
      ]
     },
     "execution_count": 195,
     "metadata": {},
     "output_type": "execute_result"
    }
   ],
   "source": [
    "cylinder_volume(10, 3)"
   ]
  },
  {
   "cell_type": "code",
   "execution_count": 196,
   "metadata": {},
   "outputs": [
    {
     "name": "stdout",
     "output_type": "stream",
     "text": [
      "Calling show_plus_ten...\n",
      "15\n",
      "Done calling\n",
      "This function returned: None\n",
      "\n",
      "Calling add_ten...\n",
      "Done calling\n",
      "This function returned: 15\n"
     ]
    }
   ],
   "source": [
    "# this prints something, but does not return anything\n",
    "def show_plus_ten(num):\n",
    "    print(num + 10)\n",
    "\n",
    "# this returns something\n",
    "def add_ten(num):\n",
    "    return(num + 10)\n",
    "\n",
    "print('Calling show_plus_ten...')\n",
    "return_value_1 = show_plus_ten(5)\n",
    "print('Done calling')\n",
    "print('This function returned: {}'.format(return_value_1))\n",
    "\n",
    "print('\\nCalling add_ten...')\n",
    "return_value_2 = add_ten(5)\n",
    "print('Done calling')\n",
    "print('This function returned: {}'.format(return_value_2))"
   ]
  },
  {
   "cell_type": "code",
   "execution_count": 197,
   "metadata": {},
   "outputs": [
    {
     "data": {
      "text/plain": [
       "1539.3791"
      ]
     },
     "execution_count": 197,
     "metadata": {},
     "output_type": "execute_result"
    }
   ],
   "source": [
    "cylinder_volume(10, 7)  # pass in arguments by position\n",
    "cylinder_volume(height=10, radius=7)  # pass in arguments by name"
   ]
  },
  {
   "cell_type": "code",
   "execution_count": 198,
   "metadata": {},
   "outputs": [
    {
     "name": "stdout",
     "output_type": "stream",
     "text": [
      "expected result: 10, actual result: 10.0\n",
      "expected result: 7123.6902801, actual result: 7123.690280065897\n"
     ]
    }
   ],
   "source": [
    "# write your function here\n",
    "def population_density(population, land_area):\n",
    "    return population / land_area\n",
    "\n",
    "\n",
    "\n",
    "# test cases for your function\n",
    "test1 = population_density(10, 1)\n",
    "expected_result1 = 10\n",
    "print(\"expected result: {}, actual result: {}\".format(expected_result1, test1))\n",
    "\n",
    "test2 = population_density(864816, 121.4)\n",
    "expected_result2 = 7123.6902801\n",
    "print(\"expected result: {}, actual result: {}\".format(expected_result2, test2))"
   ]
  },
  {
   "cell_type": "code",
   "execution_count": 199,
   "metadata": {},
   "outputs": [
    {
     "name": "stdout",
     "output_type": "stream",
     "text": [
      "1 week(s) and 3 day(s).\n"
     ]
    }
   ],
   "source": [
    "# write your function here\n",
    "def readable_timedelta(days):\n",
    "    return '{} week(s) and {} day(s).'.format(days//7, days%7)\n",
    "\n",
    "# test your function\n",
    "print(readable_timedelta(10))"
   ]
  },
  {
   "cell_type": "code",
   "execution_count": 200,
   "metadata": {},
   "outputs": [
    {
     "name": "stdout",
     "output_type": "stream",
     "text": [
      "hello\n"
     ]
    }
   ],
   "source": [
    "# This works fine\n",
    "word = \"hello\"\n",
    "\n",
    "def some_function():\n",
    "    print(word)\n",
    "\n",
    "some_function()"
   ]
  },
  {
   "cell_type": "code",
   "execution_count": 201,
   "metadata": {},
   "outputs": [],
   "source": [
    "# Documentation\n",
    "\n",
    "def population_density(population, land_area):\n",
    "    \"\"\"Calculate the population density of an area. \"\"\"\n",
    "    return population / land_area"
   ]
  },
  {
   "cell_type": "code",
   "execution_count": 202,
   "metadata": {},
   "outputs": [],
   "source": [
    "# Docstring \n",
    "\n",
    "def population_density(population, land_area):\n",
    "    \"\"\"Calculate the population density of an area.\n",
    "\n",
    "    INPUT:\n",
    "    population: int. The population of that area\n",
    "    land_area: int or float. This function is unit-agnostic, if you pass in values in terms\n",
    "    of square km or square miles the function will return a density in those units.\n",
    "\n",
    "    OUTPUT: \n",
    "    population_density: population / land_area. The population density of a particular area.\n",
    "    \"\"\"\n",
    "    return population / land_area"
   ]
  },
  {
   "cell_type": "code",
   "execution_count": 203,
   "metadata": {},
   "outputs": [],
   "source": [
    "def readable_timedelta(days):\n",
    "    \"\"\"Return a string of the number of weeks and days included in days.\"\"\"\n",
    "    weeks = days // 7\n",
    "    remainder = days % 7\n",
    "    return \"{} week(s) and {} day(s)\".format(weeks, remainder)\n",
    "def readable_timedelta(days):\n",
    "    \"\"\"Return a string of the number of weeks and days included in days.\n",
    "\n",
    "    Args:\n",
    "        days (int): number of days to convert\n",
    "    \"\"\"\n",
    "    weeks = days // 7\n",
    "    remainder = days % 7\n",
    "    return \"{} week(s) and {} day(s)\".format(weeks, remainder)\n",
    "def readable_timedelta(days):\n",
    "    \"\"\"\n",
    "    Return a string of the number of weeks and days included in days.\n",
    "\n",
    "    Parameters:\n",
    "    days -- number of days to convert (int)\n",
    "\n",
    "    Returns:\n",
    "    string of the number of weeks and days included in days\n",
    "    \"\"\"\n",
    "    weeks = days // 7\n",
    "    remainder = days % 7\n",
    "    return \"{} week(s) and {} day(s)\".format(weeks, remainder)"
   ]
  },
  {
   "cell_type": "code",
   "execution_count": 204,
   "metadata": {},
   "outputs": [],
   "source": [
    "# Lambda function\n",
    "\n",
    "def multiply(x, y):\n",
    "    return x * y"
   ]
  },
  {
   "cell_type": "code",
   "execution_count": 205,
   "metadata": {},
   "outputs": [],
   "source": [
    "multiply = lambda x, y: x * y"
   ]
  },
  {
   "cell_type": "markdown",
   "metadata": {},
   "source": []
  },
  {
   "cell_type": "code",
   "execution_count": 206,
   "metadata": {},
   "outputs": [
    {
     "data": {
      "text/plain": [
       "12"
      ]
     },
     "execution_count": 206,
     "metadata": {},
     "output_type": "execute_result"
    }
   ],
   "source": [
    "multiply(3, 4)"
   ]
  },
  {
   "cell_type": "code",
   "execution_count": 207,
   "metadata": {},
   "outputs": [
    {
     "name": "stdout",
     "output_type": "stream",
     "text": [
      "[57.0, 58.2, 50.6, 27.2]\n"
     ]
    }
   ],
   "source": [
    "numbers = [\n",
    "              [34, 63, 88, 71, 29],\n",
    "              [90, 78, 51, 27, 45],\n",
    "              [63, 37, 85, 46, 22],\n",
    "              [51, 22, 34, 11, 18]\n",
    "           ]\n",
    "\n",
    "def mean(num_list):\n",
    "    return sum(num_list) / len(num_list)\n",
    "\n",
    "averages = list(map(lambda x: sum(x) / len(x), numbers))\n",
    "print(averages)"
   ]
  },
  {
   "cell_type": "code",
   "execution_count": 208,
   "metadata": {},
   "outputs": [
    {
     "name": "stdout",
     "output_type": "stream",
     "text": [
      "['Chicago', 'Denver', 'Boston']\n"
     ]
    }
   ],
   "source": [
    "cities = [\"New York City\", \"Los Angeles\", \"Chicago\", \"Mountain View\", \"Denver\", \"Boston\"]\n",
    "\n",
    "def is_short(name):\n",
    "    return len(name) < 10\n",
    "\n",
    "short_cities = list(filter(lambda x: len(x) < 10, cities))\n",
    "print(short_cities)"
   ]
  },
  {
   "cell_type": "markdown",
   "metadata": {},
   "source": [
    "### Lesson 6: Scripting"
   ]
  },
  {
   "cell_type": "code",
   "execution_count": 209,
   "metadata": {},
   "outputs": [],
   "source": [
    "# What after installation of python and anaconda\n",
    "\n",
    "# 1. Add Python and Anaconda to PATH in .bashrc file.\n",
    "        # echo 'export PATH=\"$PATH:[YOUR_PATH]:[YOUR_PATH]/Scripts\"' >> .bashrc\n",
    "\n",
    "# 2. Add alias for Python in .bashrc file.\n",
    "        # echo 'alias python=\"winpty python.exe\"' >> .bashrc\n",
    "\n",
    "# 3. Execute commands from .bashrc\n",
    "        # source .bashrc"
   ]
  },
  {
   "cell_type": "code",
   "execution_count": 210,
   "metadata": {},
   "outputs": [
    {
     "name": "stdout",
     "output_type": "stream",
     "text": [
      "\n",
      "Welcome to Python3!\n",
      "\n",
      "             ____\n",
      "            / . .\\\n",
      "            \\  ---<\n",
      "             \\  /\n",
      "   __________/ /\n",
      "-=:___________/\n",
      "\n",
      "<3, Juno\n",
      "\n"
     ]
    }
   ],
   "source": [
    "how_many_snakes = 1\n",
    "snake_string = \"\"\"\n",
    "Welcome to Python3!\n",
    "\n",
    "             ____\n",
    "            / . .\\\\\n",
    "            \\  ---<\n",
    "             \\  /\n",
    "   __________/ /\n",
    "-=:___________/\n",
    "\n",
    "<3, Juno\n",
    "\"\"\"\n",
    "\n",
    "\n",
    "print(snake_string * how_many_snakes)"
   ]
  },
  {
   "cell_type": "code",
   "execution_count": 211,
   "metadata": {},
   "outputs": [
    {
     "name": "stdout",
     "output_type": "stream",
     "text": [
      "Hello there, !\n"
     ]
    }
   ],
   "source": [
    "name = input(\"Enter your name: \")\n",
    "print(\"Hello there, {}!\".format(name.title()))"
   ]
  },
  {
   "cell_type": "code",
   "execution_count": 212,
   "metadata": {},
   "outputs": [
    {
     "name": "stdout",
     "output_type": "stream",
     "text": [
      "Hi ,\n",
      "\n",
      "This is a reminder that you have 1 assignments left to submit before you can graduate. You're current grade is 1 and can increase to 3 if you submit all assignments before the due date.\n",
      "\n",
      "\n"
     ]
    }
   ],
   "source": [
    "names = input(\"Enter names separated by commas: \").title().split(\",\")\n",
    "assignments = input(\"Enter assignment counts separated by commas: \").split(\",\")\n",
    "grades = input(\"Enter grades separated by commas: \").split(\",\")\n",
    "\n",
    "message = \"Hi {},\\n\\nThis is a reminder that you have {} assignments left to \\\n",
    "submit before you can graduate. You're current grade is {} and can increase \\\n",
    "to {} if you submit all assignments before the due date.\\n\\n\"\n",
    "\n",
    "for name, assignment, grade in zip(names, assignments, grades):\n",
    "    print(message.format(name, assignment, grade, int(grade) + int(assignment)*2))"
   ]
  },
  {
   "cell_type": "code",
   "execution_count": 213,
   "metadata": {},
   "outputs": [
    {
     "name": "stdout",
     "output_type": "stream",
     "text": [
      "\n",
      "Let's party! We'll have 1 people attending, they'll each get to eat 1 cookies, and we'll have 0 left over.\n"
     ]
    }
   ],
   "source": [
    "def party_planner(cookies, people):\n",
    "    leftovers = None\n",
    "    num_each = None\n",
    "    # TODO: Add a try-except block here to\n",
    "    #       make sure no ZeroDivisionError occurs.\n",
    "    try:\n",
    "        num_each = cookies // people\n",
    "        leftovers = cookies % people\n",
    "    except ZeroDivisionError as E:\n",
    "        print('Division not possible')\n",
    "\n",
    "    return(num_each, leftovers)\n",
    "\n",
    "# The main code block is below; do not edit this\n",
    "lets_party = 'y'\n",
    "while lets_party == 'y':\n",
    "\n",
    "    cookies = int(input(\"How many cookies are you baking? \"))\n",
    "    people = int(input(\"How many people are attending? \"))\n",
    "\n",
    "    cookies_each, leftovers = party_planner(cookies, people)\n",
    "\n",
    "    if cookies_each:  # if cookies_each is not None\n",
    "        message = \"\\nLet's party! We'll have {} people attending, they'll each get to eat {} cookies, and we'll have {} left over.\"\n",
    "        print(message.format(people, cookies_each, leftovers))\n",
    "\n",
    "    lets_party = input(\"\\nWould you like to party more? (y or n) \")"
   ]
  },
  {
   "cell_type": "code",
   "execution_count": 214,
   "metadata": {},
   "outputs": [
    {
     "ename": "FileNotFoundError",
     "evalue": "[Errno 2] No such file or directory: 'my_path/my_file.txt'",
     "output_type": "error",
     "traceback": [
      "\u001b[1;31m---------------------------------------------------------------------------\u001b[0m",
      "\u001b[1;31mFileNotFoundError\u001b[0m                         Traceback (most recent call last)",
      "\u001b[1;32md:\\Coding\\Udacity\\AI Python Programming Nano Degree\\Introduction to Python fo AI Programming.ipynb Cell 128\u001b[0m in \u001b[0;36m<cell line: 2>\u001b[1;34m()\u001b[0m\n\u001b[0;32m      <a href='vscode-notebook-cell:/d%3A/Coding/Udacity/AI%20Python%20Programming%20Nano%20Degree/Introduction%20to%20Python%20fo%20AI%20Programming.ipynb#Y241sZmlsZQ%3D%3D?line=0'>1</a>\u001b[0m \u001b[39m# Reading File\u001b[39;00m\n\u001b[1;32m----> <a href='vscode-notebook-cell:/d%3A/Coding/Udacity/AI%20Python%20Programming%20Nano%20Degree/Introduction%20to%20Python%20fo%20AI%20Programming.ipynb#Y241sZmlsZQ%3D%3D?line=1'>2</a>\u001b[0m f \u001b[39m=\u001b[39m \u001b[39mopen\u001b[39;49m(\u001b[39m'\u001b[39;49m\u001b[39mmy_path/my_file.txt\u001b[39;49m\u001b[39m'\u001b[39;49m, \u001b[39m'\u001b[39;49m\u001b[39mr\u001b[39;49m\u001b[39m'\u001b[39;49m)\n\u001b[0;32m      <a href='vscode-notebook-cell:/d%3A/Coding/Udacity/AI%20Python%20Programming%20Nano%20Degree/Introduction%20to%20Python%20fo%20AI%20Programming.ipynb#Y241sZmlsZQ%3D%3D?line=2'>3</a>\u001b[0m file_data \u001b[39m=\u001b[39m f\u001b[39m.\u001b[39mread()\n\u001b[0;32m      <a href='vscode-notebook-cell:/d%3A/Coding/Udacity/AI%20Python%20Programming%20Nano%20Degree/Introduction%20to%20Python%20fo%20AI%20Programming.ipynb#Y241sZmlsZQ%3D%3D?line=3'>4</a>\u001b[0m f\u001b[39m.\u001b[39mclose()\n",
      "\u001b[1;31mFileNotFoundError\u001b[0m: [Errno 2] No such file or directory: 'my_path/my_file.txt'"
     ]
    }
   ],
   "source": [
    "# Reading File\n",
    "f = open('my_path/my_file.txt', 'r')\n",
    "file_data = f.read()\n",
    "f.close()"
   ]
  },
  {
   "cell_type": "code",
   "execution_count": 215,
   "metadata": {},
   "outputs": [
    {
     "ename": "FileNotFoundError",
     "evalue": "[Errno 2] No such file or directory: 'my_path/my_file.txt'",
     "output_type": "error",
     "traceback": [
      "\u001b[1;31m---------------------------------------------------------------------------\u001b[0m",
      "\u001b[1;31mFileNotFoundError\u001b[0m                         Traceback (most recent call last)",
      "\u001b[1;32md:\\Coding\\Udacity\\AI Python Programming Nano Degree\\Introduction to Python fo AI Programming.ipynb Cell 129\u001b[0m in \u001b[0;36m<cell line: 2>\u001b[1;34m()\u001b[0m\n\u001b[0;32m      <a href='vscode-notebook-cell:/d%3A/Coding/Udacity/AI%20Python%20Programming%20Nano%20Degree/Introduction%20to%20Python%20fo%20AI%20Programming.ipynb#Y242sZmlsZQ%3D%3D?line=0'>1</a>\u001b[0m \u001b[39m# Writing File\u001b[39;00m\n\u001b[1;32m----> <a href='vscode-notebook-cell:/d%3A/Coding/Udacity/AI%20Python%20Programming%20Nano%20Degree/Introduction%20to%20Python%20fo%20AI%20Programming.ipynb#Y242sZmlsZQ%3D%3D?line=1'>2</a>\u001b[0m f \u001b[39m=\u001b[39m \u001b[39mopen\u001b[39;49m(\u001b[39m'\u001b[39;49m\u001b[39mmy_path/my_file.txt\u001b[39;49m\u001b[39m'\u001b[39;49m, \u001b[39m'\u001b[39;49m\u001b[39mw\u001b[39;49m\u001b[39m'\u001b[39;49m)\n\u001b[0;32m      <a href='vscode-notebook-cell:/d%3A/Coding/Udacity/AI%20Python%20Programming%20Nano%20Degree/Introduction%20to%20Python%20fo%20AI%20Programming.ipynb#Y242sZmlsZQ%3D%3D?line=2'>3</a>\u001b[0m f\u001b[39m.\u001b[39mwrite(\u001b[39m\"\u001b[39m\u001b[39mHello there!\u001b[39m\u001b[39m\"\u001b[39m)\n\u001b[0;32m      <a href='vscode-notebook-cell:/d%3A/Coding/Udacity/AI%20Python%20Programming%20Nano%20Degree/Introduction%20to%20Python%20fo%20AI%20Programming.ipynb#Y242sZmlsZQ%3D%3D?line=3'>4</a>\u001b[0m f\u001b[39m.\u001b[39mclose()\n",
      "\u001b[1;31mFileNotFoundError\u001b[0m: [Errno 2] No such file or directory: 'my_path/my_file.txt'"
     ]
    }
   ],
   "source": [
    "# Writing File\n",
    "f = open('my_path/my_file.txt', 'w')\n",
    "f.write(\"Hello there!\")\n",
    "f.close()"
   ]
  },
  {
   "cell_type": "code",
   "execution_count": 216,
   "metadata": {},
   "outputs": [
    {
     "ename": "FileNotFoundError",
     "evalue": "[Errno 2] No such file or directory: 'my_path/my_file.txt'",
     "output_type": "error",
     "traceback": [
      "\u001b[1;31m---------------------------------------------------------------------------\u001b[0m",
      "\u001b[1;31mFileNotFoundError\u001b[0m                         Traceback (most recent call last)",
      "\u001b[1;32md:\\Coding\\Udacity\\AI Python Programming Nano Degree\\Introduction to Python fo AI Programming.ipynb Cell 130\u001b[0m in \u001b[0;36m<cell line: 3>\u001b[1;34m()\u001b[0m\n\u001b[0;32m      <a href='vscode-notebook-cell:/d%3A/Coding/Udacity/AI%20Python%20Programming%20Nano%20Degree/Introduction%20to%20Python%20fo%20AI%20Programming.ipynb#Y243sZmlsZQ%3D%3D?line=0'>1</a>\u001b[0m \u001b[39m# File opening using with keyword\u001b[39;00m\n\u001b[1;32m----> <a href='vscode-notebook-cell:/d%3A/Coding/Udacity/AI%20Python%20Programming%20Nano%20Degree/Introduction%20to%20Python%20fo%20AI%20Programming.ipynb#Y243sZmlsZQ%3D%3D?line=2'>3</a>\u001b[0m \u001b[39mwith\u001b[39;00m \u001b[39mopen\u001b[39;49m(\u001b[39m'\u001b[39;49m\u001b[39mmy_path/my_file.txt\u001b[39;49m\u001b[39m'\u001b[39;49m, \u001b[39m'\u001b[39;49m\u001b[39mr\u001b[39;49m\u001b[39m'\u001b[39;49m) \u001b[39mas\u001b[39;00m f:\n\u001b[0;32m      <a href='vscode-notebook-cell:/d%3A/Coding/Udacity/AI%20Python%20Programming%20Nano%20Degree/Introduction%20to%20Python%20fo%20AI%20Programming.ipynb#Y243sZmlsZQ%3D%3D?line=3'>4</a>\u001b[0m     file_data \u001b[39m=\u001b[39m f\u001b[39m.\u001b[39mread()\n",
      "\u001b[1;31mFileNotFoundError\u001b[0m: [Errno 2] No such file or directory: 'my_path/my_file.txt'"
     ]
    }
   ],
   "source": [
    "# File opening using with keyword\n",
    "\n",
    "with open('my_path/my_file.txt', 'r') as f:\n",
    "    file_data = f.read()"
   ]
  },
  {
   "cell_type": "code",
   "execution_count": 217,
   "metadata": {},
   "outputs": [
    {
     "ename": "FileNotFoundError",
     "evalue": "[Errno 2] No such file or directory: 'camelot.txt'",
     "output_type": "error",
     "traceback": [
      "\u001b[1;31m---------------------------------------------------------------------------\u001b[0m",
      "\u001b[1;31mFileNotFoundError\u001b[0m                         Traceback (most recent call last)",
      "\u001b[1;32md:\\Coding\\Udacity\\AI Python Programming Nano Degree\\Introduction to Python fo AI Programming.ipynb Cell 131\u001b[0m in \u001b[0;36m<cell line: 1>\u001b[1;34m()\u001b[0m\n\u001b[1;32m----> <a href='vscode-notebook-cell:/d%3A/Coding/Udacity/AI%20Python%20Programming%20Nano%20Degree/Introduction%20to%20Python%20fo%20AI%20Programming.ipynb#Y244sZmlsZQ%3D%3D?line=0'>1</a>\u001b[0m \u001b[39mwith\u001b[39;00m \u001b[39mopen\u001b[39;49m(\u001b[39m\"\u001b[39;49m\u001b[39mcamelot.txt\u001b[39;49m\u001b[39m\"\u001b[39;49m) \u001b[39mas\u001b[39;00m song:\n\u001b[0;32m      <a href='vscode-notebook-cell:/d%3A/Coding/Udacity/AI%20Python%20Programming%20Nano%20Degree/Introduction%20to%20Python%20fo%20AI%20Programming.ipynb#Y244sZmlsZQ%3D%3D?line=1'>2</a>\u001b[0m     \u001b[39mprint\u001b[39m(song\u001b[39m.\u001b[39mread(\u001b[39m2\u001b[39m))\n\u001b[0;32m      <a href='vscode-notebook-cell:/d%3A/Coding/Udacity/AI%20Python%20Programming%20Nano%20Degree/Introduction%20to%20Python%20fo%20AI%20Programming.ipynb#Y244sZmlsZQ%3D%3D?line=2'>3</a>\u001b[0m     \u001b[39mprint\u001b[39m(song\u001b[39m.\u001b[39mread(\u001b[39m8\u001b[39m))\n",
      "\u001b[1;31mFileNotFoundError\u001b[0m: [Errno 2] No such file or directory: 'camelot.txt'"
     ]
    }
   ],
   "source": [
    "with open(\"camelot.txt\") as song:\n",
    "    print(song.read(2))\n",
    "    print(song.read(8))\n",
    "    print(song.read())"
   ]
  },
  {
   "cell_type": "code",
   "execution_count": 218,
   "metadata": {},
   "outputs": [
    {
     "ename": "FileNotFoundError",
     "evalue": "[Errno 2] No such file or directory: 'camelot.txt'",
     "output_type": "error",
     "traceback": [
      "\u001b[1;31m---------------------------------------------------------------------------\u001b[0m",
      "\u001b[1;31mFileNotFoundError\u001b[0m                         Traceback (most recent call last)",
      "\u001b[1;32md:\\Coding\\Udacity\\AI Python Programming Nano Degree\\Introduction to Python fo AI Programming.ipynb Cell 132\u001b[0m in \u001b[0;36m<cell line: 2>\u001b[1;34m()\u001b[0m\n\u001b[0;32m      <a href='vscode-notebook-cell:/d%3A/Coding/Udacity/AI%20Python%20Programming%20Nano%20Degree/Introduction%20to%20Python%20fo%20AI%20Programming.ipynb#Y245sZmlsZQ%3D%3D?line=0'>1</a>\u001b[0m camelot_lines \u001b[39m=\u001b[39m []\n\u001b[1;32m----> <a href='vscode-notebook-cell:/d%3A/Coding/Udacity/AI%20Python%20Programming%20Nano%20Degree/Introduction%20to%20Python%20fo%20AI%20Programming.ipynb#Y245sZmlsZQ%3D%3D?line=1'>2</a>\u001b[0m \u001b[39mwith\u001b[39;00m \u001b[39mopen\u001b[39;49m(\u001b[39m\"\u001b[39;49m\u001b[39mcamelot.txt\u001b[39;49m\u001b[39m\"\u001b[39;49m) \u001b[39mas\u001b[39;00m f:\n\u001b[0;32m      <a href='vscode-notebook-cell:/d%3A/Coding/Udacity/AI%20Python%20Programming%20Nano%20Degree/Introduction%20to%20Python%20fo%20AI%20Programming.ipynb#Y245sZmlsZQ%3D%3D?line=2'>3</a>\u001b[0m     \u001b[39mfor\u001b[39;00m line \u001b[39min\u001b[39;00m f:\n\u001b[0;32m      <a href='vscode-notebook-cell:/d%3A/Coding/Udacity/AI%20Python%20Programming%20Nano%20Degree/Introduction%20to%20Python%20fo%20AI%20Programming.ipynb#Y245sZmlsZQ%3D%3D?line=3'>4</a>\u001b[0m         camelot_lines\u001b[39m.\u001b[39mappend(line\u001b[39m.\u001b[39mstrip())\n",
      "\u001b[1;31mFileNotFoundError\u001b[0m: [Errno 2] No such file or directory: 'camelot.txt'"
     ]
    }
   ],
   "source": [
    "camelot_lines = []\n",
    "with open(\"camelot.txt\") as f:\n",
    "    for line in f:\n",
    "        camelot_lines.append(line.strip())\n",
    "\n",
    "print(camelot_lines)"
   ]
  },
  {
   "cell_type": "code",
   "execution_count": 219,
   "metadata": {},
   "outputs": [
    {
     "ename": "FileNotFoundError",
     "evalue": "[Errno 2] No such file or directory: 'flying_circus_cast.txt'",
     "output_type": "error",
     "traceback": [
      "\u001b[1;31m---------------------------------------------------------------------------\u001b[0m",
      "\u001b[1;31mFileNotFoundError\u001b[0m                         Traceback (most recent call last)",
      "\u001b[1;32md:\\Coding\\Udacity\\AI Python Programming Nano Degree\\Introduction to Python fo AI Programming.ipynb Cell 133\u001b[0m in \u001b[0;36m<cell line: 12>\u001b[1;34m()\u001b[0m\n\u001b[0;32m      <a href='vscode-notebook-cell:/d%3A/Coding/Udacity/AI%20Python%20Programming%20Nano%20Degree/Introduction%20to%20Python%20fo%20AI%20Programming.ipynb#Y246sZmlsZQ%3D%3D?line=7'>8</a>\u001b[0m             cast_list\u001b[39m.\u001b[39mappend(line\u001b[39m.\u001b[39msplit(\u001b[39m'\u001b[39m\u001b[39m,\u001b[39m\u001b[39m'\u001b[39m)[\u001b[39m0\u001b[39m])\n\u001b[0;32m     <a href='vscode-notebook-cell:/d%3A/Coding/Udacity/AI%20Python%20Programming%20Nano%20Degree/Introduction%20to%20Python%20fo%20AI%20Programming.ipynb#Y246sZmlsZQ%3D%3D?line=9'>10</a>\u001b[0m     \u001b[39mreturn\u001b[39;00m cast_list\n\u001b[1;32m---> <a href='vscode-notebook-cell:/d%3A/Coding/Udacity/AI%20Python%20Programming%20Nano%20Degree/Introduction%20to%20Python%20fo%20AI%20Programming.ipynb#Y246sZmlsZQ%3D%3D?line=11'>12</a>\u001b[0m cast_list \u001b[39m=\u001b[39m create_cast_list(\u001b[39m'\u001b[39;49m\u001b[39mflying_circus_cast.txt\u001b[39;49m\u001b[39m'\u001b[39;49m)\n\u001b[0;32m     <a href='vscode-notebook-cell:/d%3A/Coding/Udacity/AI%20Python%20Programming%20Nano%20Degree/Introduction%20to%20Python%20fo%20AI%20Programming.ipynb#Y246sZmlsZQ%3D%3D?line=12'>13</a>\u001b[0m \u001b[39mfor\u001b[39;00m actor \u001b[39min\u001b[39;00m cast_list:\n\u001b[0;32m     <a href='vscode-notebook-cell:/d%3A/Coding/Udacity/AI%20Python%20Programming%20Nano%20Degree/Introduction%20to%20Python%20fo%20AI%20Programming.ipynb#Y246sZmlsZQ%3D%3D?line=13'>14</a>\u001b[0m     \u001b[39mprint\u001b[39m(actor)\n",
      "\u001b[1;32md:\\Coding\\Udacity\\AI Python Programming Nano Degree\\Introduction to Python fo AI Programming.ipynb Cell 133\u001b[0m in \u001b[0;36mcreate_cast_list\u001b[1;34m(filename)\u001b[0m\n\u001b[0;32m      <a href='vscode-notebook-cell:/d%3A/Coding/Udacity/AI%20Python%20Programming%20Nano%20Degree/Introduction%20to%20Python%20fo%20AI%20Programming.ipynb#Y246sZmlsZQ%3D%3D?line=1'>2</a>\u001b[0m cast_list \u001b[39m=\u001b[39m []\n\u001b[0;32m      <a href='vscode-notebook-cell:/d%3A/Coding/Udacity/AI%20Python%20Programming%20Nano%20Degree/Introduction%20to%20Python%20fo%20AI%20Programming.ipynb#Y246sZmlsZQ%3D%3D?line=2'>3</a>\u001b[0m \u001b[39m#use with to open the file filename\u001b[39;00m\n\u001b[0;32m      <a href='vscode-notebook-cell:/d%3A/Coding/Udacity/AI%20Python%20Programming%20Nano%20Degree/Introduction%20to%20Python%20fo%20AI%20Programming.ipynb#Y246sZmlsZQ%3D%3D?line=3'>4</a>\u001b[0m \u001b[39m#use the for loop syntax to process each line\u001b[39;00m\n\u001b[0;32m      <a href='vscode-notebook-cell:/d%3A/Coding/Udacity/AI%20Python%20Programming%20Nano%20Degree/Introduction%20to%20Python%20fo%20AI%20Programming.ipynb#Y246sZmlsZQ%3D%3D?line=4'>5</a>\u001b[0m \u001b[39m#and add the actor name to cast_list\u001b[39;00m\n\u001b[1;32m----> <a href='vscode-notebook-cell:/d%3A/Coding/Udacity/AI%20Python%20Programming%20Nano%20Degree/Introduction%20to%20Python%20fo%20AI%20Programming.ipynb#Y246sZmlsZQ%3D%3D?line=5'>6</a>\u001b[0m \u001b[39mwith\u001b[39;00m \u001b[39mopen\u001b[39;49m(filename, \u001b[39m'\u001b[39;49m\u001b[39mr\u001b[39;49m\u001b[39m'\u001b[39;49m) \u001b[39mas\u001b[39;00m f:\n\u001b[0;32m      <a href='vscode-notebook-cell:/d%3A/Coding/Udacity/AI%20Python%20Programming%20Nano%20Degree/Introduction%20to%20Python%20fo%20AI%20Programming.ipynb#Y246sZmlsZQ%3D%3D?line=6'>7</a>\u001b[0m     \u001b[39mfor\u001b[39;00m line \u001b[39min\u001b[39;00m f:\n\u001b[0;32m      <a href='vscode-notebook-cell:/d%3A/Coding/Udacity/AI%20Python%20Programming%20Nano%20Degree/Introduction%20to%20Python%20fo%20AI%20Programming.ipynb#Y246sZmlsZQ%3D%3D?line=7'>8</a>\u001b[0m         cast_list\u001b[39m.\u001b[39mappend(line\u001b[39m.\u001b[39msplit(\u001b[39m'\u001b[39m\u001b[39m,\u001b[39m\u001b[39m'\u001b[39m)[\u001b[39m0\u001b[39m])\n",
      "\u001b[1;31mFileNotFoundError\u001b[0m: [Errno 2] No such file or directory: 'flying_circus_cast.txt'"
     ]
    }
   ],
   "source": [
    "def create_cast_list(filename):\n",
    "    cast_list = []\n",
    "    #use with to open the file filename\n",
    "    #use the for loop syntax to process each line\n",
    "    #and add the actor name to cast_list\n",
    "    with open(filename, 'r') as f:\n",
    "        for line in f:\n",
    "            cast_list.append(line.split(',')[0])\n",
    "\n",
    "    return cast_list\n",
    "\n",
    "cast_list = create_cast_list('flying_circus_cast.txt')\n",
    "for actor in cast_list:\n",
    "    print(actor)"
   ]
  },
  {
   "cell_type": "code",
   "execution_count": 220,
   "metadata": {},
   "outputs": [
    {
     "name": "stdout",
     "output_type": "stream",
     "text": [
      "user_list: [1, 1, 1, 1, 1, 1, 1, 1, 1, 1]\n",
      "The sum of the even numbers in user_list is: 0.\n"
     ]
    }
   ],
   "source": [
    "user_list = []  \n",
    "list_sum = 0\n",
    "for i in range(10):\n",
    "    userInput = int(input(\"Enter any number: \"))\n",
    "    try:\n",
    "        user_list.append(userInput)\n",
    "        if userInput % 2 == 0:\n",
    "            list_sum += userInput\n",
    "    except ValueError:\n",
    "        print(\"Incorrect value. That's not an int!\")\n",
    "\n",
    "print(\"user_list: {}\".format(user_list))\n",
    "print(\"The sum of the even numbers in user_list is: {}.\".format(list_sum))"
   ]
  },
  {
   "cell_type": "code",
   "execution_count": 221,
   "metadata": {},
   "outputs": [
    {
     "name": "stdout",
     "output_type": "stream",
     "text": [
      "Testing mean function\n",
      "Testing add_five function\n",
      "All tests passed!\n"
     ]
    }
   ],
   "source": [
    "# useful_functions.py\n",
    "\n",
    "def mean(num_list):\n",
    "    return sum(num_list) / len(num_list)\n",
    "\n",
    "def add_five(num_list):\n",
    "    return [n + 5 for n in num_list]\n",
    "\n",
    "def main():\n",
    "    print(\"Testing mean function\")\n",
    "    n_list = [34, 44, 23, 46, 12, 24]\n",
    "    correct_mean = 30.5\n",
    "    assert(mean(n_list) == correct_mean)\n",
    "\n",
    "    print(\"Testing add_five function\")\n",
    "    correct_list = [39, 49, 28, 51, 17, 29]\n",
    "    assert(add_five(n_list) == correct_list)\n",
    "\n",
    "    print(\"All tests passed!\")\n",
    "\n",
    "if __name__ == '__main__':\n",
    "    main()"
   ]
  },
  {
   "cell_type": "code",
   "execution_count": 222,
   "metadata": {},
   "outputs": [
    {
     "ename": "ModuleNotFoundError",
     "evalue": "No module named 'useful_functions'",
     "output_type": "error",
     "traceback": [
      "\u001b[1;31m---------------------------------------------------------------------------\u001b[0m",
      "\u001b[1;31mModuleNotFoundError\u001b[0m                       Traceback (most recent call last)",
      "\u001b[1;32md:\\Coding\\Udacity\\AI Python Programming Nano Degree\\Introduction to Python fo AI Programming.ipynb Cell 136\u001b[0m in \u001b[0;36m<cell line: 3>\u001b[1;34m()\u001b[0m\n\u001b[0;32m      <a href='vscode-notebook-cell:/d%3A/Coding/Udacity/AI%20Python%20Programming%20Nano%20Degree/Introduction%20to%20Python%20fo%20AI%20Programming.ipynb#Y252sZmlsZQ%3D%3D?line=0'>1</a>\u001b[0m \u001b[39m# demo.py\u001b[39;00m\n\u001b[1;32m----> <a href='vscode-notebook-cell:/d%3A/Coding/Udacity/AI%20Python%20Programming%20Nano%20Degree/Introduction%20to%20Python%20fo%20AI%20Programming.ipynb#Y252sZmlsZQ%3D%3D?line=2'>3</a>\u001b[0m \u001b[39mimport\u001b[39;00m \u001b[39museful_functions\u001b[39;00m \u001b[39mas\u001b[39;00m \u001b[39muf\u001b[39;00m\n\u001b[0;32m      <a href='vscode-notebook-cell:/d%3A/Coding/Udacity/AI%20Python%20Programming%20Nano%20Degree/Introduction%20to%20Python%20fo%20AI%20Programming.ipynb#Y252sZmlsZQ%3D%3D?line=4'>5</a>\u001b[0m scores \u001b[39m=\u001b[39m [\u001b[39m88\u001b[39m, \u001b[39m92\u001b[39m, \u001b[39m79\u001b[39m, \u001b[39m93\u001b[39m, \u001b[39m85\u001b[39m]\n\u001b[0;32m      <a href='vscode-notebook-cell:/d%3A/Coding/Udacity/AI%20Python%20Programming%20Nano%20Degree/Introduction%20to%20Python%20fo%20AI%20Programming.ipynb#Y252sZmlsZQ%3D%3D?line=6'>7</a>\u001b[0m mean \u001b[39m=\u001b[39m uf\u001b[39m.\u001b[39mmean(scores)\n",
      "\u001b[1;31mModuleNotFoundError\u001b[0m: No module named 'useful_functions'"
     ]
    }
   ],
   "source": [
    "# demo.py\n",
    "\n",
    "import useful_functions as uf\n",
    "\n",
    "scores = [88, 92, 79, 93, 85]\n",
    "\n",
    "mean = uf.mean(scores)\n",
    "curved = uf.add_five(scores)\n",
    "\n",
    "mean_c = uf.mean(curved)\n",
    "\n",
    "print(\"Scores:\", scores)\n",
    "print(\"Original Mean:\", mean, \" New Mean:\", mean_c)\n",
    "\n",
    "print(__name__)\n",
    "print(uf.__name__)"
   ]
  },
  {
   "cell_type": "code",
   "execution_count": 223,
   "metadata": {},
   "outputs": [
    {
     "name": "stdout",
     "output_type": "stream",
     "text": [
      "20.085536923187664\n"
     ]
    }
   ],
   "source": [
    "# print e to the power of 3 using the math module\n",
    "import math\n",
    "\n",
    "print(math.e**3)"
   ]
  },
  {
   "cell_type": "code",
   "execution_count": 224,
   "metadata": {},
   "outputs": [
    {
     "ename": "FileNotFoundError",
     "evalue": "[Errno 2] No such file or directory: 'words.txt'",
     "output_type": "error",
     "traceback": [
      "\u001b[1;31m---------------------------------------------------------------------------\u001b[0m",
      "\u001b[1;31mFileNotFoundError\u001b[0m                         Traceback (most recent call last)",
      "\u001b[1;32md:\\Coding\\Udacity\\AI Python Programming Nano Degree\\Introduction to Python fo AI Programming.ipynb Cell 138\u001b[0m in \u001b[0;36m<cell line: 9>\u001b[1;34m()\u001b[0m\n\u001b[0;32m      <a href='vscode-notebook-cell:/d%3A/Coding/Udacity/AI%20Python%20Programming%20Nano%20Degree/Introduction%20to%20Python%20fo%20AI%20Programming.ipynb#Y254sZmlsZQ%3D%3D?line=5'>6</a>\u001b[0m word_list \u001b[39m=\u001b[39m []\n\u001b[0;32m      <a href='vscode-notebook-cell:/d%3A/Coding/Udacity/AI%20Python%20Programming%20Nano%20Degree/Introduction%20to%20Python%20fo%20AI%20Programming.ipynb#Y254sZmlsZQ%3D%3D?line=7'>8</a>\u001b[0m \u001b[39m# We fill up the word_list from the `words.txt` file\u001b[39;00m\n\u001b[1;32m----> <a href='vscode-notebook-cell:/d%3A/Coding/Udacity/AI%20Python%20Programming%20Nano%20Degree/Introduction%20to%20Python%20fo%20AI%20Programming.ipynb#Y254sZmlsZQ%3D%3D?line=8'>9</a>\u001b[0m \u001b[39mwith\u001b[39;00m \u001b[39mopen\u001b[39;49m(word_file,\u001b[39m'\u001b[39;49m\u001b[39mr\u001b[39;49m\u001b[39m'\u001b[39;49m) \u001b[39mas\u001b[39;00m words:\n\u001b[0;32m     <a href='vscode-notebook-cell:/d%3A/Coding/Udacity/AI%20Python%20Programming%20Nano%20Degree/Introduction%20to%20Python%20fo%20AI%20Programming.ipynb#Y254sZmlsZQ%3D%3D?line=9'>10</a>\u001b[0m \t\u001b[39mfor\u001b[39;00m line \u001b[39min\u001b[39;00m words:\n\u001b[0;32m     <a href='vscode-notebook-cell:/d%3A/Coding/Udacity/AI%20Python%20Programming%20Nano%20Degree/Introduction%20to%20Python%20fo%20AI%20Programming.ipynb#Y254sZmlsZQ%3D%3D?line=10'>11</a>\u001b[0m \t\t\u001b[39m# remove white space and make everything lowercase\u001b[39;00m\n\u001b[0;32m     <a href='vscode-notebook-cell:/d%3A/Coding/Udacity/AI%20Python%20Programming%20Nano%20Degree/Introduction%20to%20Python%20fo%20AI%20Programming.ipynb#Y254sZmlsZQ%3D%3D?line=11'>12</a>\u001b[0m \t\tword \u001b[39m=\u001b[39m line\u001b[39m.\u001b[39mstrip()\u001b[39m.\u001b[39mlower()\n",
      "\u001b[1;31mFileNotFoundError\u001b[0m: [Errno 2] No such file or directory: 'words.txt'"
     ]
    }
   ],
   "source": [
    "# TODO: First import the `random` module\n",
    "import random\n",
    "\n",
    "# We begin with an empty `word_list`\n",
    "word_file = \"words.txt\"\n",
    "word_list = []\n",
    "\n",
    "# We fill up the word_list from the `words.txt` file\n",
    "with open(word_file,'r') as words:\n",
    "\tfor line in words:\n",
    "\t\t# remove white space and make everything lowercase\n",
    "\t\tword = line.strip().lower()\n",
    "\t\t# don't include words that are too long or too short\n",
    "\t\tif 3 < len(word) < 8:\n",
    "\t\t\tword_list.append(word)\n",
    "\n",
    "# TODO: Add your function generate_password below\n",
    "def generate_password():\n",
    "    return random.choice(word_list)+random.choice(word_list)+random.choice(word_list)\n",
    "# It should return a string consisting of three random words \n",
    "# concatenated together without spaces\n",
    "\n",
    "\n",
    "\n",
    "# Now we test the function\n",
    "print(generate_password())"
   ]
  },
  {
   "cell_type": "code",
   "execution_count": 225,
   "metadata": {},
   "outputs": [
    {
     "ename": "ModuleNotFoundError",
     "evalue": "No module named 'module_name'",
     "output_type": "error",
     "traceback": [
      "\u001b[1;31m---------------------------------------------------------------------------\u001b[0m",
      "\u001b[1;31mModuleNotFoundError\u001b[0m                       Traceback (most recent call last)",
      "\u001b[1;32md:\\Coding\\Udacity\\AI Python Programming Nano Degree\\Introduction to Python fo AI Programming.ipynb Cell 139\u001b[0m in \u001b[0;36m<cell line: 3>\u001b[1;34m()\u001b[0m\n\u001b[0;32m      <a href='vscode-notebook-cell:/d%3A/Coding/Udacity/AI%20Python%20Programming%20Nano%20Degree/Introduction%20to%20Python%20fo%20AI%20Programming.ipynb#Y255sZmlsZQ%3D%3D?line=0'>1</a>\u001b[0m \u001b[39m# Importing techniques\u001b[39;00m\n\u001b[1;32m----> <a href='vscode-notebook-cell:/d%3A/Coding/Udacity/AI%20Python%20Programming%20Nano%20Degree/Introduction%20to%20Python%20fo%20AI%20Programming.ipynb#Y255sZmlsZQ%3D%3D?line=2'>3</a>\u001b[0m \u001b[39mfrom\u001b[39;00m \u001b[39mmodule_name\u001b[39;00m \u001b[39mimport\u001b[39;00m object_name\n\u001b[0;32m      <a href='vscode-notebook-cell:/d%3A/Coding/Udacity/AI%20Python%20Programming%20Nano%20Degree/Introduction%20to%20Python%20fo%20AI%20Programming.ipynb#Y255sZmlsZQ%3D%3D?line=3'>4</a>\u001b[0m \u001b[39mfrom\u001b[39;00m \u001b[39mmodule_name\u001b[39;00m \u001b[39mimport\u001b[39;00m first_object, second_object\n\u001b[0;32m      <a href='vscode-notebook-cell:/d%3A/Coding/Udacity/AI%20Python%20Programming%20Nano%20Degree/Introduction%20to%20Python%20fo%20AI%20Programming.ipynb#Y255sZmlsZQ%3D%3D?line=4'>5</a>\u001b[0m \u001b[39mimport\u001b[39;00m \u001b[39mmodule_name\u001b[39;00m \u001b[39mas\u001b[39;00m \u001b[39mnew_name\u001b[39;00m\n",
      "\u001b[1;31mModuleNotFoundError\u001b[0m: No module named 'module_name'"
     ]
    }
   ],
   "source": [
    "# Importing techniques\n",
    "\n",
    "from module_name import object_name\n",
    "from module_name import first_object, second_object\n",
    "import module_name as new_name\n",
    "from module_name import object_name as new_name\n",
    "from module_name import *\n",
    "import module_name\n",
    "import package_name.submodule_name"
   ]
  },
  {
   "cell_type": "code",
   "execution_count": 226,
   "metadata": {},
   "outputs": [
    {
     "ename": "FileNotFoundError",
     "evalue": "[Errno 2] No such file or directory: 'flowers.txt'",
     "output_type": "error",
     "traceback": [
      "\u001b[1;31m---------------------------------------------------------------------------\u001b[0m",
      "\u001b[1;31mFileNotFoundError\u001b[0m                         Traceback (most recent call last)",
      "\u001b[1;32md:\\Coding\\Udacity\\AI Python Programming Nano Degree\\Introduction to Python fo AI Programming.ipynb Cell 140\u001b[0m in \u001b[0;36m<cell line: 21>\u001b[1;34m()\u001b[0m\n\u001b[0;32m     <a href='vscode-notebook-cell:/d%3A/Coding/Udacity/AI%20Python%20Programming%20Nano%20Degree/Introduction%20to%20Python%20fo%20AI%20Programming.ipynb#Y256sZmlsZQ%3D%3D?line=17'>18</a>\u001b[0m \u001b[39m# print command that prints final input with value from corresponding key in dictionary\u001b[39;00m\n\u001b[0;32m     <a href='vscode-notebook-cell:/d%3A/Coding/Udacity/AI%20Python%20Programming%20Nano%20Degree/Introduction%20to%20Python%20fo%20AI%20Programming.ipynb#Y256sZmlsZQ%3D%3D?line=18'>19</a>\u001b[0m     \u001b[39mprint\u001b[39m(\u001b[39m\"\u001b[39m\u001b[39mUnique flower name with the first letter: \u001b[39m\u001b[39m{}\u001b[39;00m\u001b[39m\"\u001b[39m\u001b[39m.\u001b[39mformat(flower_d[first_letter]))\n\u001b[1;32m---> <a href='vscode-notebook-cell:/d%3A/Coding/Udacity/AI%20Python%20Programming%20Nano%20Degree/Introduction%20to%20Python%20fo%20AI%20Programming.ipynb#Y256sZmlsZQ%3D%3D?line=20'>21</a>\u001b[0m main()\n",
      "\u001b[1;32md:\\Coding\\Udacity\\AI Python Programming Nano Degree\\Introduction to Python fo AI Programming.ipynb Cell 140\u001b[0m in \u001b[0;36mmain\u001b[1;34m()\u001b[0m\n\u001b[0;32m     <a href='vscode-notebook-cell:/d%3A/Coding/Udacity/AI%20Python%20Programming%20Nano%20Degree/Introduction%20to%20Python%20fo%20AI%20Programming.ipynb#Y256sZmlsZQ%3D%3D?line=12'>13</a>\u001b[0m \u001b[39mdef\u001b[39;00m \u001b[39mmain\u001b[39m(): \n\u001b[1;32m---> <a href='vscode-notebook-cell:/d%3A/Coding/Udacity/AI%20Python%20Programming%20Nano%20Degree/Introduction%20to%20Python%20fo%20AI%20Programming.ipynb#Y256sZmlsZQ%3D%3D?line=13'>14</a>\u001b[0m     flower_d \u001b[39m=\u001b[39m create_flowerdict(\u001b[39m'\u001b[39;49m\u001b[39mflowers.txt\u001b[39;49m\u001b[39m'\u001b[39;49m)\n\u001b[0;32m     <a href='vscode-notebook-cell:/d%3A/Coding/Udacity/AI%20Python%20Programming%20Nano%20Degree/Introduction%20to%20Python%20fo%20AI%20Programming.ipynb#Y256sZmlsZQ%3D%3D?line=14'>15</a>\u001b[0m     full_name \u001b[39m=\u001b[39m \u001b[39minput\u001b[39m(\u001b[39m\"\u001b[39m\u001b[39mEnter your First [space] Last name only: \u001b[39m\u001b[39m\"\u001b[39m)\n\u001b[0;32m     <a href='vscode-notebook-cell:/d%3A/Coding/Udacity/AI%20Python%20Programming%20Nano%20Degree/Introduction%20to%20Python%20fo%20AI%20Programming.ipynb#Y256sZmlsZQ%3D%3D?line=15'>16</a>\u001b[0m     first_name \u001b[39m=\u001b[39m full_name[\u001b[39m0\u001b[39m]\u001b[39m.\u001b[39mlower()\n",
      "\u001b[1;32md:\\Coding\\Udacity\\AI Python Programming Nano Degree\\Introduction to Python fo AI Programming.ipynb Cell 140\u001b[0m in \u001b[0;36mcreate_flowerdict\u001b[1;34m(filename)\u001b[0m\n\u001b[0;32m      <a href='vscode-notebook-cell:/d%3A/Coding/Udacity/AI%20Python%20Programming%20Nano%20Degree/Introduction%20to%20Python%20fo%20AI%20Programming.ipynb#Y256sZmlsZQ%3D%3D?line=1'>2</a>\u001b[0m \u001b[39mdef\u001b[39;00m \u001b[39mcreate_flowerdict\u001b[39m(filename):\n\u001b[0;32m      <a href='vscode-notebook-cell:/d%3A/Coding/Udacity/AI%20Python%20Programming%20Nano%20Degree/Introduction%20to%20Python%20fo%20AI%20Programming.ipynb#Y256sZmlsZQ%3D%3D?line=2'>3</a>\u001b[0m     flower_dict \u001b[39m=\u001b[39m {}\n\u001b[1;32m----> <a href='vscode-notebook-cell:/d%3A/Coding/Udacity/AI%20Python%20Programming%20Nano%20Degree/Introduction%20to%20Python%20fo%20AI%20Programming.ipynb#Y256sZmlsZQ%3D%3D?line=3'>4</a>\u001b[0m     \u001b[39mwith\u001b[39;00m \u001b[39mopen\u001b[39;49m(filename) \u001b[39mas\u001b[39;00m f:\n\u001b[0;32m      <a href='vscode-notebook-cell:/d%3A/Coding/Udacity/AI%20Python%20Programming%20Nano%20Degree/Introduction%20to%20Python%20fo%20AI%20Programming.ipynb#Y256sZmlsZQ%3D%3D?line=4'>5</a>\u001b[0m         \u001b[39mfor\u001b[39;00m line \u001b[39min\u001b[39;00m f:\n\u001b[0;32m      <a href='vscode-notebook-cell:/d%3A/Coding/Udacity/AI%20Python%20Programming%20Nano%20Degree/Introduction%20to%20Python%20fo%20AI%20Programming.ipynb#Y256sZmlsZQ%3D%3D?line=5'>6</a>\u001b[0m             letter \u001b[39m=\u001b[39m line\u001b[39m.\u001b[39msplit(\u001b[39m\"\u001b[39m\u001b[39m: \u001b[39m\u001b[39m\"\u001b[39m)[\u001b[39m0\u001b[39m]\u001b[39m.\u001b[39mlower() \n",
      "\u001b[1;31mFileNotFoundError\u001b[0m: [Errno 2] No such file or directory: 'flowers.txt'"
     ]
    }
   ],
   "source": [
    "# function that creates a flower_dictionary from filename\n",
    "def create_flowerdict(filename):\n",
    "    flower_dict = {}\n",
    "    with open(filename) as f:\n",
    "        for line in f:\n",
    "            letter = line.split(\": \")[0].lower() \n",
    "            flower = line.split(\": \")[1].strip()\n",
    "            flower_dict[letter] = flower\n",
    "    return flower_dict\n",
    "\n",
    "# Main function that prompts for user input, parses out the first letter\n",
    "# includes function call for create_flowerdict to create dictionary\n",
    "def main(): \n",
    "    flower_d = create_flowerdict('flowers.txt')\n",
    "    full_name = input(\"Enter your First [space] Last name only: \")\n",
    "    first_name = full_name[0].lower()\n",
    "    first_letter = first_name[0]\n",
    "# print command that prints final input with value from corresponding key in dictionary\n",
    "    print(\"Unique flower name with the first letter: {}\".format(flower_d[first_letter]))\n",
    "\n",
    "main()"
   ]
  },
  {
   "cell_type": "markdown",
   "metadata": {},
   "source": [
    "### Lesson 7: Intro to Object Oriented Programming"
   ]
  },
  {
   "cell_type": "code",
   "execution_count": 227,
   "metadata": {},
   "outputs": [],
   "source": [
    "# OOPs Practice Set 1\n",
    "\n",
    "class Shirt:\n",
    "\n",
    "    def __init__(self, shirt_color, shirt_size, shirt_style, shirt_price):\n",
    "        self.color = shirt_color\n",
    "        self.size = shirt_size\n",
    "        self.style = shirt_style\n",
    "        self.price = shirt_price\n",
    "    \n",
    "    def change_price(self, new_price):\n",
    "    \n",
    "        self.price = new_price\n",
    "        \n",
    "    def discount(self, discount):\n",
    "\n",
    "        return self.price * (1 - discount)"
   ]
  },
  {
   "cell_type": "code",
   "execution_count": 228,
   "metadata": {},
   "outputs": [
    {
     "name": "stdout",
     "output_type": "stream",
     "text": [
      "long-sleeve\n"
     ]
    }
   ],
   "source": [
    "### TODO:\n",
    "#    - instantiate a shirt object with the following characteristics:\n",
    "#        - color red, size S, style long-sleeve, and price 25\n",
    "shirt_one = Shirt('red', 'S', 'long-sleeve', '25')\n",
    "#    - store the object in a variable called shirt_one\n",
    "print(shirt_one.style)\n",
    "#\n",
    "###"
   ]
  },
  {
   "cell_type": "code",
   "execution_count": 229,
   "metadata": {},
   "outputs": [
    {
     "name": "stdout",
     "output_type": "stream",
     "text": [
      "25\n",
      "10\n",
      "8.8\n"
     ]
    }
   ],
   "source": [
    "### TODO:\n",
    "#     - print the price of the shirt using the price attribute\n",
    "print(shirt_one.price)\n",
    "#     - use the change_price method to change the price of the shirt to 10\n",
    "shirt_one.change_price(10)\n",
    "#     - print the price of the shirt using the price attribute\n",
    "print(shirt_one.price)\n",
    "#     - use the discount method to print the price of the shirt with a 12% discount\n",
    "print(shirt_one.discount(0.12))\n",
    "#\n",
    "###"
   ]
  },
  {
   "cell_type": "code",
   "execution_count": 230,
   "metadata": {},
   "outputs": [],
   "source": [
    "### TODO:\n",
    "#\n",
    "#    - instantiate another object with the following characteristics:\n",
    "# .       - color orange, size L, style short-sleeve, and price 10\n",
    "#    - store the object in a variable called shirt_two\n",
    "shirt_two = Shirt('orange', 'L', 'short-sleeve', 10)\n",
    "#\n",
    "###"
   ]
  },
  {
   "cell_type": "code",
   "execution_count": 231,
   "metadata": {},
   "outputs": [
    {
     "name": "stdout",
     "output_type": "stream",
     "text": [
      "Total price of Shirt one and two is 20\n"
     ]
    }
   ],
   "source": [
    "### TODO:\n",
    "#\n",
    "#    - calculate the total cost of shirt_one and shirt_two\n",
    "total = shirt_one.price + shirt_two.price\n",
    "#    - store the results in a variable called total\n",
    "print('Total price of Shirt one and two is', total)\n",
    "###"
   ]
  },
  {
   "cell_type": "code",
   "execution_count": 232,
   "metadata": {},
   "outputs": [
    {
     "name": "stdout",
     "output_type": "stream",
     "text": [
      "18.0\n"
     ]
    }
   ],
   "source": [
    "### TODO:\n",
    "#\n",
    "#    - use the shirt discount method to calculate the total cost if\n",
    "#       shirt_one has a discount of 14% and shirt_two has a discount\n",
    "#       of 6%\n",
    "#    - store the results in a variable called total_discount\n",
    "total_discount = shirt_one.discount(.14) + shirt_two.discount(.06)\n",
    "print(total_discount)\n",
    "###"
   ]
  },
  {
   "cell_type": "code",
   "execution_count": 233,
   "metadata": {},
   "outputs": [],
   "source": [
    "class Shirt:\n",
    "\n",
    "    def __init__(self, shirt_color, shirt_size, shirt_style, shirt_price):\n",
    "        self._price = shirt_price\n",
    "\n",
    "    def get_price(self):\n",
    "      return self._price  \n",
    "      \n",
    "\n",
    "    def set_price(self, new_price):\n",
    "      self._price = new_price"
   ]
  },
  {
   "cell_type": "code",
   "execution_count": 234,
   "metadata": {},
   "outputs": [
    {
     "name": "stdout",
     "output_type": "stream",
     "text": [
      "15\n"
     ]
    }
   ],
   "source": [
    "shirt_one = Shirt('yellow', 'M', 'long-sleeve', 15)\n",
    "print(shirt_one.get_price())\n",
    "shirt_one.set_price(10)"
   ]
  },
  {
   "cell_type": "code",
   "execution_count": 235,
   "metadata": {},
   "outputs": [
    {
     "name": "stdout",
     "output_type": "stream",
     "text": [
      "10\n"
     ]
    }
   ],
   "source": [
    "print(shirt_one.get_price())"
   ]
  },
  {
   "cell_type": "code",
   "execution_count": 236,
   "metadata": {},
   "outputs": [],
   "source": [
    "# OOPs Practice Set 2\n",
    "\n",
    "### TODO:\n",
    "#   - code a Pants class with the following attributes\n",
    "#   - color (string) eg 'red', 'yellow', 'orange'\n",
    "#   - waist_size (integer) eg 8, 9, 10, 32, 33, 34\n",
    "#   - length (integer) eg 27, 28, 29, 30, 31\n",
    "#   - price (float) eg 9.28\n",
    "\n",
    "### TODO: Declare the Pants Class \n",
    "class Pants:\n",
    "### TODO: write an __init__ function to initialize the attributes\n",
    "    def __init__(self, color, waist_size, length, price):\n",
    "        self.color = color\n",
    "        self.waist_size = waist_size\n",
    "        self.length = length\n",
    "        self.price = price\n",
    "        \n",
    "### TODO: write a change_price method:\n",
    "#    Args:\n",
    "#        new_price (float): the new price of the shirt\n",
    "#    Returns:\n",
    "#        None\n",
    "\n",
    "    def change_price(self, new_price):\n",
    "        self.price = new_price\n",
    "\n",
    "### TODO: write a discount method:\n",
    "#    Args:\n",
    "#        discount (float): a decimal value for the discount. \n",
    "#            For example 0.05 for a 5% discount.\n",
    "#\n",
    "#    Returns:\n",
    "#        float: the discounted price\n",
    "\n",
    "    def discount(self, disc):\n",
    "        return self.price * (1 - disc)"
   ]
  },
  {
   "cell_type": "code",
   "execution_count": 237,
   "metadata": {},
   "outputs": [
    {
     "name": "stdout",
     "output_type": "stream",
     "text": [
      "You made it to the end of the check. Nice job!\n"
     ]
    }
   ],
   "source": [
    "def check_results():\n",
    "    pants = Pants('red', 35, 36, 15.12)\n",
    "    assert pants.color == 'red'\n",
    "    assert pants.waist_size == 35\n",
    "    assert pants.length == 36\n",
    "    assert pants.price == 15.12\n",
    "    \n",
    "    pants.change_price(10) == 10\n",
    "    assert pants.price == 10 \n",
    "    \n",
    "    assert pants.discount(.1) == 9\n",
    "    \n",
    "    print('You made it to the end of the check. Nice job!')\n",
    "\n",
    "check_results()"
   ]
  },
  {
   "cell_type": "code",
   "execution_count": 238,
   "metadata": {},
   "outputs": [],
   "source": [
    "### TODO:\n",
    "#   Code a SalesPerson class with the following attributes\n",
    "#   - first_name (string), the first name of the salesperson\n",
    "#   - last_name (string), the last name of the salesperson\n",
    "#   - employee_id (int), the employee ID number like 5681923\n",
    "#   - salary (float), the monthly salary of the employee\n",
    "#   - pants_sold (list of Pants objects), \n",
    "#            pants that the salesperson has sold \n",
    "#   - total_sales (float), sum of sales of pants sold\n",
    "\n",
    "class SalesPerson:\n",
    "\n",
    "    def __init__(self, first_name, last_name, employee_id, salary):\n",
    "        \n",
    "        \"\"\"\n",
    "        first_name (str)\n",
    "        last_name (str)\n",
    "        employee_id (int)\n",
    "        salary (float)\n",
    "        \"\"\"     \n",
    "        \n",
    "        self.first_name = first_name\n",
    "        self.last_name = last_name\n",
    "        self.employee_id = employee_id\n",
    "        self.salary = salary\n",
    "        self.pants_sold = []\n",
    "        self.total_sales = 0\n",
    "\n",
    "\n",
    "    def sell_pants(self, pants_object):\n",
    "        \"\"\"\n",
    "        This method receives a Pants object and appends\n",
    "        the object to the pants_sold attribute list\n",
    "\n",
    "        Args:\n",
    "            pants (Pants object): a pants object\n",
    "        Returns:\n",
    "            None\n",
    "        \"\"\"\n",
    "        self.pants_sold.append(pants_object)\n",
    "\n",
    "    def display_sales(self):\n",
    "        \"\"\"        \n",
    "        This method has no input or outputs. When this method \n",
    "        is called, the code iterates through the pants_sold list\n",
    "        and prints out the characteristics of each pair of pants\n",
    "        line by line. The print out should look something like this\n",
    "\n",
    "        color: blue, waist_size: 34, length: 34, price: 10\n",
    "        color: red, waist_size: 36, length: 30, price: 14.15\n",
    "        \"\"\"        \n",
    "        for pants in self.pants_sold:\n",
    "            print('color: {}, waist_size: {}, length: {}, price: {}'\\\n",
    "                  .format(pants.color, pants.waist_size, pants.length, pants.price))\n",
    "    \n",
    "    def calculate_sales(self):\n",
    "        \n",
    "        \"\"\"\n",
    "        This method calculates the total sales for the sales person.\n",
    "        The method should iterate through the pants_sold attribute list\n",
    "        and sum the prices of the pants sold. The sum should be stored\n",
    "        in the total_sales attribute and then return the total.\n",
    "\n",
    "        Args:\n",
    "            None\n",
    "        Returns:\n",
    "            float: total sales\n",
    "        \"\"\" \n",
    "        \n",
    "        for pants in self.pants_sold:\n",
    "            total += pants.price\n",
    "            \n",
    "        self.total_sales = total\n",
    "        \n",
    "        return total\n",
    "\n",
    "\n",
    "    def calculate_commission(self, percentage):\n",
    "        \"\"\"\n",
    "        The calculate_commission method outputs the commission based on sales\n",
    "\n",
    "        Args:\n",
    "            percentage (float): the commission percentage as a decimal\n",
    "\n",
    "        Returns:\n",
    "            float: the commission due\n",
    "        \"\"\"\n",
    "\n",
    "        sales_total = self.calculate_sales()\n",
    "        return sales_total * percentage "
   ]
  },
  {
   "cell_type": "code",
   "execution_count": 239,
   "metadata": {},
   "outputs": [
    {
     "ename": "UnboundLocalError",
     "evalue": "local variable 'total' referenced before assignment",
     "output_type": "error",
     "traceback": [
      "\u001b[1;31m---------------------------------------------------------------------------\u001b[0m",
      "\u001b[1;31mUnboundLocalError\u001b[0m                         Traceback (most recent call last)",
      "\u001b[1;32md:\\Coding\\Udacity\\AI Python Programming Nano Degree\\Introduction to Python fo AI Programming.ipynb Cell 154\u001b[0m in \u001b[0;36m<cell line: 27>\u001b[1;34m()\u001b[0m\n\u001b[0;32m     <a href='vscode-notebook-cell:/d%3A/Coding/Udacity/AI%20Python%20Programming%20Nano%20Degree/Introduction%20to%20Python%20fo%20AI%20Programming.ipynb#Y306sZmlsZQ%3D%3D?line=22'>23</a>\u001b[0m     \u001b[39massert\u001b[39;00m \u001b[39mround\u001b[39m(salesperson\u001b[39m.\u001b[39mcalculate_commission(\u001b[39m.1\u001b[39m),\u001b[39m2\u001b[39m) \u001b[39m==\u001b[39m \u001b[39m4.74\u001b[39m\n\u001b[0;32m     <a href='vscode-notebook-cell:/d%3A/Coding/Udacity/AI%20Python%20Programming%20Nano%20Degree/Introduction%20to%20Python%20fo%20AI%20Programming.ipynb#Y306sZmlsZQ%3D%3D?line=24'>25</a>\u001b[0m     \u001b[39mprint\u001b[39m(\u001b[39m'\u001b[39m\u001b[39mGreat job, you made it to the end of the code checks!\u001b[39m\u001b[39m'\u001b[39m)\n\u001b[1;32m---> <a href='vscode-notebook-cell:/d%3A/Coding/Udacity/AI%20Python%20Programming%20Nano%20Degree/Introduction%20to%20Python%20fo%20AI%20Programming.ipynb#Y306sZmlsZQ%3D%3D?line=26'>27</a>\u001b[0m check_results()\n",
      "\u001b[1;32md:\\Coding\\Udacity\\AI Python Programming Nano Degree\\Introduction to Python fo AI Programming.ipynb Cell 154\u001b[0m in \u001b[0;36mcheck_results\u001b[1;34m()\u001b[0m\n\u001b[0;32m     <a href='vscode-notebook-cell:/d%3A/Coding/Udacity/AI%20Python%20Programming%20Nano%20Degree/Introduction%20to%20Python%20fo%20AI%20Programming.ipynb#Y306sZmlsZQ%3D%3D?line=18'>19</a>\u001b[0m salesperson\u001b[39m.\u001b[39msell_pants(pants_three)\n\u001b[0;32m     <a href='vscode-notebook-cell:/d%3A/Coding/Udacity/AI%20Python%20Programming%20Nano%20Degree/Introduction%20to%20Python%20fo%20AI%20Programming.ipynb#Y306sZmlsZQ%3D%3D?line=20'>21</a>\u001b[0m \u001b[39massert\u001b[39;00m \u001b[39mlen\u001b[39m(salesperson\u001b[39m.\u001b[39mpants_sold) \u001b[39m==\u001b[39m \u001b[39m3\u001b[39m\n\u001b[1;32m---> <a href='vscode-notebook-cell:/d%3A/Coding/Udacity/AI%20Python%20Programming%20Nano%20Degree/Introduction%20to%20Python%20fo%20AI%20Programming.ipynb#Y306sZmlsZQ%3D%3D?line=21'>22</a>\u001b[0m \u001b[39massert\u001b[39;00m \u001b[39mround\u001b[39m(salesperson\u001b[39m.\u001b[39;49mcalculate_sales(),\u001b[39m2\u001b[39m) \u001b[39m==\u001b[39m \u001b[39m47.36\u001b[39m\n\u001b[0;32m     <a href='vscode-notebook-cell:/d%3A/Coding/Udacity/AI%20Python%20Programming%20Nano%20Degree/Introduction%20to%20Python%20fo%20AI%20Programming.ipynb#Y306sZmlsZQ%3D%3D?line=22'>23</a>\u001b[0m \u001b[39massert\u001b[39;00m \u001b[39mround\u001b[39m(salesperson\u001b[39m.\u001b[39mcalculate_commission(\u001b[39m.1\u001b[39m),\u001b[39m2\u001b[39m) \u001b[39m==\u001b[39m \u001b[39m4.74\u001b[39m\n\u001b[0;32m     <a href='vscode-notebook-cell:/d%3A/Coding/Udacity/AI%20Python%20Programming%20Nano%20Degree/Introduction%20to%20Python%20fo%20AI%20Programming.ipynb#Y306sZmlsZQ%3D%3D?line=24'>25</a>\u001b[0m \u001b[39mprint\u001b[39m(\u001b[39m'\u001b[39m\u001b[39mGreat job, you made it to the end of the code checks!\u001b[39m\u001b[39m'\u001b[39m)\n",
      "\u001b[1;32md:\\Coding\\Udacity\\AI Python Programming Nano Degree\\Introduction to Python fo AI Programming.ipynb Cell 154\u001b[0m in \u001b[0;36mSalesPerson.calculate_sales\u001b[1;34m(self)\u001b[0m\n\u001b[0;32m     <a href='vscode-notebook-cell:/d%3A/Coding/Udacity/AI%20Python%20Programming%20Nano%20Degree/Introduction%20to%20Python%20fo%20AI%20Programming.ipynb#Y306sZmlsZQ%3D%3D?line=57'>58</a>\u001b[0m \u001b[39m\"\"\"\u001b[39;00m\n\u001b[0;32m     <a href='vscode-notebook-cell:/d%3A/Coding/Udacity/AI%20Python%20Programming%20Nano%20Degree/Introduction%20to%20Python%20fo%20AI%20Programming.ipynb#Y306sZmlsZQ%3D%3D?line=58'>59</a>\u001b[0m \u001b[39mThis method calculates the total sales for the sales person.\u001b[39;00m\n\u001b[0;32m     <a href='vscode-notebook-cell:/d%3A/Coding/Udacity/AI%20Python%20Programming%20Nano%20Degree/Introduction%20to%20Python%20fo%20AI%20Programming.ipynb#Y306sZmlsZQ%3D%3D?line=59'>60</a>\u001b[0m \u001b[39mThe method should iterate through the pants_sold attribute list\u001b[39;00m\n\u001b[1;32m   (...)\u001b[0m\n\u001b[0;32m     <a href='vscode-notebook-cell:/d%3A/Coding/Udacity/AI%20Python%20Programming%20Nano%20Degree/Introduction%20to%20Python%20fo%20AI%20Programming.ipynb#Y306sZmlsZQ%3D%3D?line=66'>67</a>\u001b[0m \u001b[39m    float: total sales\u001b[39;00m\n\u001b[0;32m     <a href='vscode-notebook-cell:/d%3A/Coding/Udacity/AI%20Python%20Programming%20Nano%20Degree/Introduction%20to%20Python%20fo%20AI%20Programming.ipynb#Y306sZmlsZQ%3D%3D?line=67'>68</a>\u001b[0m \u001b[39m\"\"\"\u001b[39;00m \n\u001b[0;32m     <a href='vscode-notebook-cell:/d%3A/Coding/Udacity/AI%20Python%20Programming%20Nano%20Degree/Introduction%20to%20Python%20fo%20AI%20Programming.ipynb#Y306sZmlsZQ%3D%3D?line=69'>70</a>\u001b[0m \u001b[39mfor\u001b[39;00m pants \u001b[39min\u001b[39;00m \u001b[39mself\u001b[39m\u001b[39m.\u001b[39mpants_sold:\n\u001b[1;32m---> <a href='vscode-notebook-cell:/d%3A/Coding/Udacity/AI%20Python%20Programming%20Nano%20Degree/Introduction%20to%20Python%20fo%20AI%20Programming.ipynb#Y306sZmlsZQ%3D%3D?line=70'>71</a>\u001b[0m     total \u001b[39m+\u001b[39m\u001b[39m=\u001b[39m pants\u001b[39m.\u001b[39mprice\n\u001b[0;32m     <a href='vscode-notebook-cell:/d%3A/Coding/Udacity/AI%20Python%20Programming%20Nano%20Degree/Introduction%20to%20Python%20fo%20AI%20Programming.ipynb#Y306sZmlsZQ%3D%3D?line=72'>73</a>\u001b[0m \u001b[39mself\u001b[39m\u001b[39m.\u001b[39mtotal_sales \u001b[39m=\u001b[39m total\n\u001b[0;32m     <a href='vscode-notebook-cell:/d%3A/Coding/Udacity/AI%20Python%20Programming%20Nano%20Degree/Introduction%20to%20Python%20fo%20AI%20Programming.ipynb#Y306sZmlsZQ%3D%3D?line=74'>75</a>\u001b[0m \u001b[39mreturn\u001b[39;00m total\n",
      "\u001b[1;31mUnboundLocalError\u001b[0m: local variable 'total' referenced before assignment"
     ]
    }
   ],
   "source": [
    "def check_results():\n",
    "    pants_one = Pants('red', 35, 36, 15.12)\n",
    "    pants_two = Pants('blue', 40, 38, 24.12)\n",
    "    pants_three = Pants('tan', 28, 30, 8.12)\n",
    "    \n",
    "    salesperson = SalesPerson('Amy', 'Gonzalez', 2581923, 40000)\n",
    "    \n",
    "    assert salesperson.first_name == 'Amy'\n",
    "    assert salesperson.last_name == 'Gonzalez'\n",
    "    assert salesperson.employee_id == 2581923\n",
    "    assert salesperson.salary == 40000\n",
    "    assert salesperson.pants_sold == []\n",
    "    assert salesperson.total_sales == 0\n",
    "    \n",
    "    salesperson.sell_pants(pants_one)\n",
    "    salesperson.pants_sold[0] == pants_one.color\n",
    "    \n",
    "    salesperson.sell_pants(pants_two)\n",
    "    salesperson.sell_pants(pants_three)\n",
    "    \n",
    "    assert len(salesperson.pants_sold) == 3\n",
    "    assert round(salesperson.calculate_sales(),2) == 47.36\n",
    "    assert round(salesperson.calculate_commission(.1),2) == 4.74\n",
    "    \n",
    "    print('Great job, you made it to the end of the code checks!')\n",
    "    \n",
    "check_results()"
   ]
  },
  {
   "cell_type": "code",
   "execution_count": 1,
   "metadata": {},
   "outputs": [],
   "source": [
    "class Pants:\n",
    "    \"\"\"The Pants class represents an article of clothing sold in a store\n",
    "    \"\"\"\n",
    "\n",
    "    def __init__(self, color, waist_size, length, price):\n",
    "        \"\"\"Method for initializing a Pants object\n",
    "\n",
    "        Args: \n",
    "            color (str)\n",
    "            waist_size (int)\n",
    "            length (int)\n",
    "            price (float)\n",
    "\n",
    "        Attributes:\n",
    "            color (str): color of a pants object\n",
    "            waist_size (str): waist size of a pants object\n",
    "            length (str): length of a pants object\n",
    "            price (float): price of a pants object\n",
    "        \"\"\"\n",
    "\n",
    "        self.color = color\n",
    "        self.waist_size = waist_size\n",
    "        self.length = length\n",
    "        self.price = price\n",
    "\n",
    "    def change_price(self, new_price):\n",
    "        \"\"\"The change_price method changes the price attribute of a pants object\n",
    "\n",
    "        Args: \n",
    "            new_price (float): the new price of the pants object\n",
    "\n",
    "        Returns: None\n",
    "\n",
    "        \"\"\"\n",
    "        self.price = new_price\n",
    "\n",
    "    def discount(self, percentage):\n",
    "        \"\"\"The discount method outputs a discounted price of a pants object\n",
    "\n",
    "        Args:\n",
    "            percentage (float): a decimal representing the amount to discount\n",
    "\n",
    "        Returns:\n",
    "            float: the discounted price\n",
    "        \"\"\"\n",
    "        return self.price * (1 - percentage)"
   ]
  },
  {
   "cell_type": "code",
   "execution_count": 5,
   "metadata": {},
   "outputs": [],
   "source": [
    "import math\n",
    "import matplotlib.pyplot as plt\n",
    "\n",
    "class Gaussian():\n",
    "    \"\"\" Gaussian distribution class for calculating and \n",
    "    visualizing a Gaussian distribution.\n",
    "\n",
    "    Attributes:\n",
    "        mean (float) representing the mean value of the distribution\n",
    "        stdev (float) representing the standard deviation of the distribution\n",
    "        data_list (list of floats) a list of floats extracted from the data file\n",
    "\n",
    "    \"\"\"\n",
    "    def __init__(self, mu = 0, sigma = 1):\n",
    "\n",
    "        self.mean = mu\n",
    "        self.stdev = sigma\n",
    "        self.data = []\n",
    "\n",
    "\n",
    "    def calculate_mean(self):\n",
    "\n",
    "        \"\"\"Function to calculate the mean of the data set.\n",
    "\n",
    "        Args: \n",
    "            None\n",
    "\n",
    "        Returns: \n",
    "            float: mean of the data set\n",
    "\n",
    "        \"\"\"\n",
    "\n",
    "        avg = 1.0 * sum(self.data) / len(self.data)\n",
    "\n",
    "        self.mean = avg\n",
    "\n",
    "        return self.mean\n",
    "\n",
    "\n",
    "\n",
    "    def calculate_stdev(self, sample=True):\n",
    "\n",
    "        \"\"\"Function to calculate the standard deviation of the data set.\n",
    "\n",
    "        Args: \n",
    "            sample (bool): whether the data represents a sample or population\n",
    "\n",
    "        Returns: \n",
    "            float: standard deviation of the data set\n",
    "\n",
    "        \"\"\"\n",
    "\n",
    "        if sample:\n",
    "            n = len(self.data) - 1\n",
    "        else:\n",
    "            n = len(self.data)\n",
    "\n",
    "        mean = self.mean\n",
    "\n",
    "        sigma = 0\n",
    "\n",
    "        for d in self.data:\n",
    "            sigma += (d - mean) ** 2\n",
    "\n",
    "        sigma = math.sqrt(sigma / n)\n",
    "\n",
    "        self.stdev = sigma\n",
    "\n",
    "        return self.stdev\n",
    "\n",
    "\n",
    "    def read_data_file(self, file_name, sample=True):\n",
    "\n",
    "        \"\"\"Function to read in data from a txt file. The txt file should have\n",
    "        one number (float) per line. The numbers are stored in the data attribute. \n",
    "        After reading in the file, the mean and standard deviation are calculated\n",
    "\n",
    "        Args:\n",
    "            file_name (string): name of a file to read from\n",
    "\n",
    "        Returns:\n",
    "            None\n",
    "\n",
    "        \"\"\"\n",
    "\n",
    "        with open(file_name) as file:\n",
    "            data_list = []\n",
    "            line = file.readline()\n",
    "            while line:\n",
    "                data_list.append(int(line))\n",
    "                line = file.readline()\n",
    "        file.close()\n",
    "\n",
    "        self.data = data_list\n",
    "        self.mean = self.calculate_mean()\n",
    "        self.stdev = self.calculate_stdev(sample)\n",
    "\n",
    "\n",
    "    def plot_histogram(self):\n",
    "        \"\"\"Function to output a histogram of the instance variable data using \n",
    "        matplotlib pyplot library.\n",
    "\n",
    "        Args:\n",
    "            None\n",
    "\n",
    "        Returns:\n",
    "            None\n",
    "        \"\"\"\n",
    "        plt.hist(self.data)\n",
    "        plt.title('Histogram of Data')\n",
    "        plt.xlabel('data')\n",
    "        plt.ylabel('count')\n",
    "\n",
    "\n",
    "\n",
    "    def pdf(self, x):\n",
    "        \"\"\"Probability density function calculator for the gaussian distribution.\n",
    "\n",
    "        Args:\n",
    "            x (float): point for calculating the probability density function\n",
    "\n",
    "\n",
    "        Returns:\n",
    "            float: probability density function output\n",
    "        \"\"\"\n",
    "\n",
    "        return (1.0 / (self.stdev * math.sqrt(2*math.pi))) * math.exp(-0.5*((x - self.mean) / self.stdev) ** 2)\n",
    "\n",
    "\n",
    "    def plot_histogram_pdf(self, n_spaces = 50):\n",
    "\n",
    "        \"\"\"Function to plot the normalized histogram of the data and a plot of the \n",
    "        probability density function along the same range\n",
    "\n",
    "        Args:\n",
    "            n_spaces (int): number of data points \n",
    "\n",
    "        Returns:\n",
    "            list: x values for the pdf plot\n",
    "            list: y values for the pdf plot\n",
    "\n",
    "        \"\"\"\n",
    "\n",
    "        mu = self.mean\n",
    "        sigma = self.stdev\n",
    "\n",
    "        min_range = min(self.data)\n",
    "        max_range = max(self.data)\n",
    "\n",
    "         # calculates the interval between x values\n",
    "        interval = 1.0 * (max_range - min_range) / n_spaces\n",
    "\n",
    "        x = []\n",
    "        y = []\n",
    "\n",
    "        # calculate the x values to visualize\n",
    "        for i in range(n_spaces):\n",
    "            tmp = min_range + interval*i\n",
    "            x.append(tmp)\n",
    "            y.append(self.pdf(tmp))\n",
    "\n",
    "        # make the plots\n",
    "        fig, axes = plt.subplots(2,sharex=True)\n",
    "        fig.subplots_adjust(hspace=.5)\n",
    "        axes[0].hist(self.data, density=True)\n",
    "        axes[0].set_title('Normed Histogram of Data')\n",
    "        axes[0].set_ylabel('Density')\n",
    "\n",
    "        axes[1].plot(x, y)\n",
    "        axes[1].set_title('Normal Distribution for \\n Sample Mean and Sample Standard Deviation')\n",
    "        axes[0].set_ylabel('Density')\n",
    "        plt.show()\n",
    "\n",
    "        return x, y"
   ]
  },
  {
   "cell_type": "code",
   "execution_count": 7,
   "metadata": {},
   "outputs": [
    {
     "name": "stderr",
     "output_type": "stream",
     "text": [
      ".E.E\n",
      "======================================================================\n",
      "ERROR: test_meancalculation (__main__.TestGaussianClass)\n",
      "----------------------------------------------------------------------\n",
      "Traceback (most recent call last):\n",
      "  File \"C:\\Users\\SACHIN\\AppData\\Local\\Temp\\ipykernel_6524\\1087006374.py\", line 18, in test_meancalculation\n",
      "    self.gaussian.read_data_file('numbers.txt', True)\n",
      "  File \"C:\\Users\\SACHIN\\AppData\\Local\\Temp\\ipykernel_6524\\1330993245.py\", line 86, in read_data_file\n",
      "    with open(file_name) as file:\n",
      "FileNotFoundError: [Errno 2] No such file or directory: 'numbers.txt'\n",
      "\n",
      "======================================================================\n",
      "ERROR: test_stdevcalculation (__main__.TestGaussianClass)\n",
      "----------------------------------------------------------------------\n",
      "Traceback (most recent call last):\n",
      "  File \"C:\\Users\\SACHIN\\AppData\\Local\\Temp\\ipykernel_6524\\1087006374.py\", line 23, in test_stdevcalculation\n",
      "    self.gaussian.read_data_file('numbers.txt', True)\n",
      "  File \"C:\\Users\\SACHIN\\AppData\\Local\\Temp\\ipykernel_6524\\1330993245.py\", line 86, in read_data_file\n",
      "    with open(file_name) as file:\n",
      "FileNotFoundError: [Errno 2] No such file or directory: 'numbers.txt'\n",
      "\n",
      "----------------------------------------------------------------------\n",
      "Ran 4 tests in 0.010s\n",
      "\n",
      "FAILED (errors=2)\n"
     ]
    },
    {
     "data": {
      "text/plain": [
       "<unittest.runner.TextTestResult run=4 errors=2 failures=0>"
      ]
     },
     "execution_count": 7,
     "metadata": {},
     "output_type": "execute_result"
    }
   ],
   "source": [
    "# Unit tests to check your solution\n",
    "\n",
    "import unittest\n",
    "\n",
    "class TestGaussianClass(unittest.TestCase):\n",
    "    def setUp(self):\n",
    "        self.gaussian = Gaussian(25, 2)\n",
    "\n",
    "    def test_initialization(self): \n",
    "        self.assertEqual(self.gaussian.mean, 25, 'incorrect mean')\n",
    "        self.assertEqual(self.gaussian.stdev, 2, 'incorrect standard deviation')\n",
    "\n",
    "    def test_pdf(self):\n",
    "        self.assertEqual(round(self.gaussian.pdf(25), 5), 0.19947,\\\n",
    "         'pdf function does not give expected result') \n",
    "\n",
    "    def test_meancalculation(self):\n",
    "        self.gaussian.read_data_file('numbers.txt', True)\n",
    "        self.assertEqual(self.gaussian.calculate_mean(),\\\n",
    "         sum(self.gaussian.data) / float(len(self.gaussian.data)), 'calculated mean not as expected')\n",
    "\n",
    "    def test_stdevcalculation(self):\n",
    "        self.gaussian.read_data_file('numbers.txt', True)\n",
    "        self.assertEqual(round(self.gaussian.stdev, 2), 92.87, 'sample standard deviation incorrect')\n",
    "        self.gaussian.read_data_file('numbers.txt', False)\n",
    "        self.assertEqual(round(self.gaussian.stdev, 2), 88.55, 'population standard deviation incorrect')\n",
    "                \n",
    "tests = TestGaussianClass()\n",
    "\n",
    "tests_loaded = unittest.TestLoader().loadTestsFromModule(tests)\n",
    "\n",
    "unittest.TextTestRunner().run(tests_loaded)"
   ]
  },
  {
   "cell_type": "code",
   "execution_count": 8,
   "metadata": {},
   "outputs": [],
   "source": [
    "import math\n",
    "import matplotlib.pyplot as plt\n",
    "\n",
    "class Gaussian():\n",
    "    \"\"\" Gaussian distribution class for calculating and \n",
    "    visualizing a Gaussian distribution.\n",
    "\n",
    "    Attributes:\n",
    "        mean (float) representing the mean value of the distribution\n",
    "        stdev (float) representing the standard deviation of the distribution\n",
    "        data_list (list of floats) a list of floats extracted from the data file\n",
    "\n",
    "    \"\"\"\n",
    "    def __init__(self, mu = 0, sigma = 1):\n",
    "\n",
    "        self.mean = mu\n",
    "        self.stdev = sigma\n",
    "        self.data = []\n",
    "\n",
    "\n",
    "    def calculate_mean(self):\n",
    "\n",
    "        \"\"\"Function to calculate the mean of the data set.\n",
    "\n",
    "        Args: \n",
    "            None\n",
    "\n",
    "        Returns: \n",
    "            float: mean of the data set\n",
    "\n",
    "        \"\"\"\n",
    "\n",
    "        avg = 1.0 * sum(self.data) / len(self.data)\n",
    "\n",
    "        self.mean = avg\n",
    "\n",
    "        return self.mean\n",
    "\n",
    "\n",
    "\n",
    "    def calculate_stdev(self, sample=True):\n",
    "\n",
    "        \"\"\"Function to calculate the standard deviation of the data set.\n",
    "\n",
    "        Args: \n",
    "            sample (bool): whether the data represents a sample or population\n",
    "\n",
    "        Returns: \n",
    "            float: standard deviation of the data set\n",
    "\n",
    "        \"\"\"\n",
    "\n",
    "        if sample:\n",
    "            n = len(self.data) - 1\n",
    "        else:\n",
    "            n = len(self.data)\n",
    "\n",
    "        mean = self.mean\n",
    "\n",
    "        sigma = 0\n",
    "\n",
    "        for d in self.data:\n",
    "            sigma += (d - mean) ** 2\n",
    "\n",
    "        sigma = math.sqrt(sigma / n)\n",
    "\n",
    "        self.stdev = sigma\n",
    "\n",
    "        return self.stdev\n",
    "\n",
    "\n",
    "    def read_data_file(self, file_name, sample=True):\n",
    "\n",
    "        \"\"\"Function to read in data from a txt file. The txt file should have\n",
    "        one number (float) per line. The numbers are stored in the data attribute. \n",
    "        After reading in the file, the mean and standard deviation are calculated\n",
    "\n",
    "        Args:\n",
    "            file_name (string): name of a file to read from\n",
    "\n",
    "        Returns:\n",
    "            None\n",
    "\n",
    "        \"\"\"\n",
    "\n",
    "        with open(file_name) as file:\n",
    "            data_list = []\n",
    "            line = file.readline()\n",
    "            while line:\n",
    "                data_list.append(int(line))\n",
    "                line = file.readline()\n",
    "        file.close()\n",
    "\n",
    "        self.data = data_list\n",
    "        self.mean = self.calculate_mean()\n",
    "        self.stdev = self.calculate_stdev(sample)\n",
    "\n",
    "\n",
    "    def plot_histogram(self):\n",
    "        \"\"\"Function to output a histogram of the instance variable data using \n",
    "        matplotlib pyplot library.\n",
    "\n",
    "        Args:\n",
    "            None\n",
    "\n",
    "        Returns:\n",
    "            None\n",
    "        \"\"\"\n",
    "        plt.hist(self.data)\n",
    "        plt.title('Histogram of Data')\n",
    "        plt.xlabel('data')\n",
    "        plt.ylabel('count')\n",
    "\n",
    "\n",
    "\n",
    "    def pdf(self, x):\n",
    "        \"\"\"Probability density function calculator for the gaussian distribution.\n",
    "\n",
    "        Args:\n",
    "            x (float): point for calculating the probability density function\n",
    "\n",
    "\n",
    "        Returns:\n",
    "            float: probability density function output\n",
    "        \"\"\"\n",
    "\n",
    "        return (1.0 / (self.stdev * math.sqrt(2*math.pi))) * math.exp(-0.5*((x - self.mean) / self.stdev) ** 2)\n",
    "\n",
    "\n",
    "    def plot_histogram_pdf(self, n_spaces = 50):\n",
    "\n",
    "        \"\"\"Function to plot the normalized histogram of the data and a plot of the \n",
    "        probability density function along the same range\n",
    "\n",
    "        Args:\n",
    "            n_spaces (int): number of data points \n",
    "\n",
    "        Returns:\n",
    "            list: x values for the pdf plot\n",
    "            list: y values for the pdf plot\n",
    "\n",
    "        \"\"\"\n",
    "\n",
    "        mu = self.mean\n",
    "        sigma = self.stdev\n",
    "\n",
    "        min_range = min(self.data)\n",
    "        max_range = max(self.data)\n",
    "\n",
    "         # calculates the interval between x values\n",
    "        interval = 1.0 * (max_range - min_range) / n_spaces\n",
    "\n",
    "        x = []\n",
    "        y = []\n",
    "\n",
    "        # calculate the x values to visualize\n",
    "        for i in range(n_spaces):\n",
    "            tmp = min_range + interval*i\n",
    "            x.append(tmp)\n",
    "            y.append(self.pdf(tmp))\n",
    "\n",
    "        # make the plots\n",
    "        fig, axes = plt.subplots(2,sharex=True)\n",
    "        fig.subplots_adjust(hspace=.5)\n",
    "        axes[0].hist(self.data, density=True)\n",
    "        axes[0].set_title('Normed Histogram of Data')\n",
    "        axes[0].set_ylabel('Density')\n",
    "\n",
    "        axes[1].plot(x, y)\n",
    "        axes[1].set_title('Normal Distribution for \\n Sample Mean and Sample Standard Deviation')\n",
    "        axes[0].set_ylabel('Density')\n",
    "        plt.show()\n",
    "\n",
    "        return x, y\n",
    "\n",
    "    def __add__(self, other):\n",
    "\n",
    "        \"\"\"Function to add together two Gaussian distributions\n",
    "\n",
    "        Args:\n",
    "            other (Gaussian): Gaussian instance\n",
    "\n",
    "        Returns:\n",
    "            Gaussian: Gaussian distribution\n",
    "\n",
    "        \"\"\"\n",
    "\n",
    "        result = Gaussian()\n",
    "        result.mean = self.mean + other.mean\n",
    "        result.stdev = math.sqrt(self.stdev ** 2 + other.stdev ** 2)\n",
    "\n",
    "        return result\n",
    "\n",
    "\n",
    "    def __repr__(self):\n",
    "\n",
    "        \"\"\"Function to output the characteristics of the Gaussian instance\n",
    "\n",
    "        Args:\n",
    "            None\n",
    "\n",
    "        Returns:\n",
    "            string: characteristics of the Gaussian\n",
    "\n",
    "        \"\"\"\n",
    "\n",
    "        return \"mean {}, standard deviation {}\".format(self.mean, self.stdev)"
   ]
  },
  {
   "cell_type": "code",
   "execution_count": 9,
   "metadata": {},
   "outputs": [
    {
     "name": "stderr",
     "output_type": "stream",
     "text": [
      "..E..E\n",
      "======================================================================\n",
      "ERROR: test_meancalculation (__main__.TestGaussianClass)\n",
      "----------------------------------------------------------------------\n",
      "Traceback (most recent call last):\n",
      "  File \"C:\\Users\\SACHIN\\AppData\\Local\\Temp\\ipykernel_6524\\1165813698.py\", line 18, in test_meancalculation\n",
      "    self.gaussian.read_data_file('numbers.txt', True)\n",
      "  File \"C:\\Users\\SACHIN\\AppData\\Local\\Temp\\ipykernel_6524\\2535104429.py\", line 86, in read_data_file\n",
      "    with open(file_name) as file:\n",
      "FileNotFoundError: [Errno 2] No such file or directory: 'numbers.txt'\n",
      "\n",
      "======================================================================\n",
      "ERROR: test_stdevcalculation (__main__.TestGaussianClass)\n",
      "----------------------------------------------------------------------\n",
      "Traceback (most recent call last):\n",
      "  File \"C:\\Users\\SACHIN\\AppData\\Local\\Temp\\ipykernel_6524\\1165813698.py\", line 23, in test_stdevcalculation\n",
      "    self.gaussian.read_data_file('numbers.txt', True)\n",
      "  File \"C:\\Users\\SACHIN\\AppData\\Local\\Temp\\ipykernel_6524\\2535104429.py\", line 86, in read_data_file\n",
      "    with open(file_name) as file:\n",
      "FileNotFoundError: [Errno 2] No such file or directory: 'numbers.txt'\n",
      "\n",
      "----------------------------------------------------------------------\n",
      "Ran 6 tests in 0.016s\n",
      "\n",
      "FAILED (errors=2)\n"
     ]
    },
    {
     "data": {
      "text/plain": [
       "<unittest.runner.TextTestResult run=6 errors=2 failures=0>"
      ]
     },
     "execution_count": 9,
     "metadata": {},
     "output_type": "execute_result"
    }
   ],
   "source": [
    "# Unit tests to check your solution\n",
    "\n",
    "import unittest\n",
    "\n",
    "class TestGaussianClass(unittest.TestCase):\n",
    "    def setUp(self):\n",
    "        self.gaussian = Gaussian(25, 2)\n",
    "\n",
    "    def test_initialization(self): \n",
    "        self.assertEqual(self.gaussian.mean, 25, 'incorrect mean')\n",
    "        self.assertEqual(self.gaussian.stdev, 2, 'incorrect standard deviation')\n",
    "\n",
    "    def test_pdf(self):\n",
    "        self.assertEqual(round(self.gaussian.pdf(25), 5), 0.19947,\\\n",
    "         'pdf function does not give expected result') \n",
    "\n",
    "    def test_meancalculation(self):\n",
    "        self.gaussian.read_data_file('numbers.txt', True)\n",
    "        self.assertEqual(self.gaussian.calculate_mean(),\\\n",
    "         sum(self.gaussian.data) / float(len(self.gaussian.data)), 'calculated mean not as expected')\n",
    "\n",
    "    def test_stdevcalculation(self):\n",
    "        self.gaussian.read_data_file('numbers.txt', True)\n",
    "        self.assertEqual(round(self.gaussian.stdev, 2), 92.87, 'sample standard deviation incorrect')\n",
    "        self.gaussian.read_data_file('numbers.txt', False)\n",
    "        self.assertEqual(round(self.gaussian.stdev, 2), 88.55, 'population standard deviation incorrect')\n",
    "\n",
    "    def test_add(self):\n",
    "        gaussian_one = Gaussian(25, 3)\n",
    "        gaussian_two = Gaussian(30, 4)\n",
    "        gaussian_sum = gaussian_one + gaussian_two\n",
    "        \n",
    "        self.assertEqual(gaussian_sum.mean, 55)\n",
    "        self.assertEqual(gaussian_sum.stdev, 5)\n",
    "\n",
    "    def test_repr(self):\n",
    "        gaussian_one = Gaussian(25, 3)\n",
    "        \n",
    "        self.assertEqual(str(gaussian_one), \"mean 25, standard deviation 3\")\n",
    "        \n",
    "tests = TestGaussianClass()\n",
    "\n",
    "tests_loaded = unittest.TestLoader().loadTestsFromModule(tests)\n",
    "\n",
    "unittest.TextTestRunner().run(tests_loaded)"
   ]
  },
  {
   "cell_type": "code",
   "execution_count": 10,
   "metadata": {},
   "outputs": [],
   "source": [
    "class Clothing:\n",
    "\n",
    "    def __init__(self, color, size, style, price):\n",
    "        self.color = color\n",
    "        self.size = size\n",
    "        self.style = style\n",
    "        self.price = price\n",
    "\n",
    "    def change_price(self, price):\n",
    "        self.price = price\n",
    "\n",
    "    def calculate_discount(self, discount):\n",
    "        return self.price * (1 - discount)\n",
    "\n",
    "    def calculate_shipping(self, weight, rate):\n",
    "        return weight * rate\n",
    "\n",
    "class Shirt(Clothing):\n",
    "\n",
    "    def __init__(self, color, size, style, price, long_or_short):\n",
    "\n",
    "        Clothing.__init__(self, color, size, style, price)\n",
    "        self.long_or_short = long_or_short\n",
    "\n",
    "    def double_price(self):\n",
    "        self.price = 2*self.price\n",
    "\n",
    "class Pants(Clothing):\n",
    "\n",
    "    def __init__(self, color, size, style, price, waist):\n",
    "\n",
    "        Clothing.__init__(self, color, size, style, price)\n",
    "        self.waist = waist\n",
    "\n",
    "    def calculate_discount(self, discount):\n",
    "        return self.price * (1 - discount / 2)\n",
    "\n",
    "class Blouse(Clothing):\n",
    "    def __init__(self, color, size, style, price, country_of_origin):\n",
    "        Clothing.__init__(self, color, size, style, price)\n",
    "        self.country_of_origin = country_of_origin\n",
    "\n",
    "    def triple_price(self):\n",
    "        return 3 * self.price"
   ]
  },
  {
   "cell_type": "code",
   "execution_count": 11,
   "metadata": {},
   "outputs": [
    {
     "name": "stderr",
     "output_type": "stream",
     "text": [
      "..\n",
      "----------------------------------------------------------------------\n",
      "Ran 2 tests in 0.003s\n",
      "\n",
      "OK\n"
     ]
    },
    {
     "data": {
      "text/plain": [
       "<unittest.runner.TextTestResult run=2 errors=0 failures=0>"
      ]
     },
     "execution_count": 11,
     "metadata": {},
     "output_type": "execute_result"
    }
   ],
   "source": [
    "# Unit tests to check your solution\n",
    "\n",
    "import unittest\n",
    "\n",
    "class TestClothingClass(unittest.TestCase):\n",
    "    def setUp(self):\n",
    "        self.clothing = Clothing('orange', 'M', 'stripes', 35)\n",
    "        self.blouse = Blouse('blue', 'M', 'luxury', 40, 'Brazil')\n",
    "        self.pants = Pants('black', 32, 'baggy', 60, 30)\n",
    "        \n",
    "    def test_initialization(self): \n",
    "        self.assertEqual(self.clothing.color, 'orange', 'color should be orange')\n",
    "        self.assertEqual(self.clothing.price, 35, 'incorrect price')\n",
    "        \n",
    "        self.assertEqual(self.blouse.color, 'blue', 'color should be blue')\n",
    "        self.assertEqual(self.blouse.size, 'M', 'incorrect size')\n",
    "        self.assertEqual(self.blouse.style, 'luxury', 'incorrect style')\n",
    "        self.assertEqual(self.blouse.price, 40, 'incorrect price')\n",
    "        self.assertEqual(self.blouse.country_of_origin, 'Brazil', 'incorrect country of origin')\n",
    "\n",
    "    def test_calculateshipping(self):\n",
    "        self.assertEqual(self.clothing.calculate_shipping(.5, 3), .5 * 3,\\\n",
    "         'Clothing shipping calculation not as expected') \n",
    "\n",
    "        self.assertEqual(self.blouse.calculate_shipping(.5, 3), .5 * 3,\\\n",
    "         'Clothing shipping calculation not as expected') \n",
    "    \n",
    "tests = TestClothingClass()\n",
    "\n",
    "tests_loaded = unittest.TestLoader().loadTestsFromModule(tests)\n",
    "\n",
    "unittest.TextTestRunner().run(tests_loaded)"
   ]
  },
  {
   "cell_type": "code",
   "execution_count": 12,
   "metadata": {},
   "outputs": [],
   "source": [
    "class Distribution:\n",
    "    \n",
    "    def __init__(self, mu=0, sigma=1):\n",
    "    \n",
    "        \"\"\" Generic distribution class for calculating and \n",
    "        visualizing a probability distribution.\n",
    "    \n",
    "        Attributes:\n",
    "            mean (float) representing the mean value of the distribution\n",
    "            stdev (float) representing the standard deviation of the distribution\n",
    "            data_list (list of floats) a list of floats extracted from the data file\n",
    "            \"\"\"\n",
    "        \n",
    "        self.mean = mu\n",
    "        self.stdev = sigma\n",
    "        self.data = []\n",
    "\n",
    "\n",
    "    def read_data_file(self, file_name):\n",
    "    \n",
    "        \"\"\"Function to read in data from a txt file. The txt file should have\n",
    "        one number (float) per line. The numbers are stored in the data attribute.\n",
    "                \n",
    "        Args:\n",
    "            file_name (string): name of a file to read from\n",
    "        \n",
    "        Returns:\n",
    "            None\n",
    "        \n",
    "        \"\"\"\n",
    "            \n",
    "        with open(file_name) as file:\n",
    "            data_list = []\n",
    "            line = file.readline()\n",
    "            while line:\n",
    "                data_list.append(int(line))\n",
    "                line = file.readline()\n",
    "        file.close()\n",
    "    \n",
    "        self.data = data_list"
   ]
  },
  {
   "cell_type": "code",
   "execution_count": 13,
   "metadata": {},
   "outputs": [],
   "source": [
    "import math\n",
    "import matplotlib.pyplot as plt\n",
    "\n",
    "class Gaussian(Distribution):\n",
    "    \"\"\" Gaussian distribution class for calculating and \n",
    "    visualizing a Gaussian distribution.\n",
    "    \n",
    "    Attributes:\n",
    "        mean (float) representing the mean value of the distribution\n",
    "        stdev (float) representing the standard deviation of the distribution\n",
    "        data_list (list of floats) a list of floats extracted from the data file\n",
    "            \n",
    "    \"\"\"\n",
    "    def __init__(self, mu=0, sigma=1):\n",
    "        \n",
    "        Distribution.__init__(self, mu, sigma)\n",
    "    \n",
    "        \n",
    "    \n",
    "    def calculate_mean(self):\n",
    "    \n",
    "        \"\"\"Function to calculate the mean of the data set.\n",
    "        \n",
    "        Args: \n",
    "            None\n",
    "        \n",
    "        Returns: \n",
    "            float: mean of the data set\n",
    "    \n",
    "        \"\"\"\n",
    "                    \n",
    "        avg = 1.0 * sum(self.data) / len(self.data)\n",
    "        \n",
    "        self.mean = avg\n",
    "        \n",
    "        return self.mean\n",
    "\n",
    "\n",
    "\n",
    "    def calculate_stdev(self, sample=True):\n",
    "\n",
    "        \"\"\"Function to calculate the standard deviation of the data set.\n",
    "        \n",
    "        Args: \n",
    "            sample (bool): whether the data represents a sample or population\n",
    "        \n",
    "        Returns: \n",
    "            float: standard deviation of the data set\n",
    "    \n",
    "        \"\"\"\n",
    "\n",
    "        if sample:\n",
    "            n = len(self.data) - 1\n",
    "        else:\n",
    "            n = len(self.data)\n",
    "    \n",
    "        mean = self.calculate_mean()\n",
    "    \n",
    "        sigma = 0\n",
    "    \n",
    "        for d in self.data:\n",
    "            sigma += (d - mean) ** 2\n",
    "        \n",
    "        sigma = math.sqrt(sigma / n)\n",
    "    \n",
    "        self.stdev = sigma\n",
    "        \n",
    "        return self.stdev\n",
    "        \n",
    "        \n",
    "        \n",
    "    def plot_histogram(self):\n",
    "        \"\"\"Function to output a histogram of the instance variable data using \n",
    "        matplotlib pyplot library.\n",
    "        \n",
    "        Args:\n",
    "            None\n",
    "            \n",
    "        Returns:\n",
    "            None\n",
    "        \"\"\"\n",
    "        plt.hist(self.data)\n",
    "        plt.title('Histogram of Data')\n",
    "        plt.xlabel('data')\n",
    "        plt.ylabel('count')\n",
    "        \n",
    "        \n",
    "        \n",
    "    def pdf(self, x):\n",
    "        \"\"\"Probability density function calculator for the gaussian distribution.\n",
    "        \n",
    "        Args:\n",
    "            x (float): point for calculating the probability density function\n",
    "            \n",
    "        \n",
    "        Returns:\n",
    "            float: probability density function output\n",
    "        \"\"\"\n",
    "        \n",
    "        return (1.0 / (self.stdev * math.sqrt(2*math.pi))) * math.exp(-0.5*((x - self.mean) / self.stdev) ** 2)\n",
    "        \n",
    "\n",
    "    def plot_histogram_pdf(self, n_spaces = 50):\n",
    "\n",
    "        \"\"\"Function to plot the normalized histogram of the data and a plot of the \n",
    "        probability density function along the same range\n",
    "        \n",
    "        Args:\n",
    "            n_spaces (int): number of data points \n",
    "        \n",
    "        Returns:\n",
    "            list: x values for the pdf plot\n",
    "            list: y values for the pdf plot\n",
    "            \n",
    "        \"\"\"\n",
    "        \n",
    "        mu = self.mean\n",
    "        sigma = self.stdev\n",
    "\n",
    "        min_range = min(self.data)\n",
    "        max_range = max(self.data)\n",
    "        \n",
    "         # calculates the interval between x values\n",
    "        interval = 1.0 * (max_range - min_range) / n_spaces\n",
    "\n",
    "        x = []\n",
    "        y = []\n",
    "        \n",
    "        # calculate the x values to visualize\n",
    "        for i in range(n_spaces):\n",
    "            tmp = min_range + interval*i\n",
    "            x.append(tmp)\n",
    "            y.append(self.pdf(tmp))\n",
    "\n",
    "        # make the plots\n",
    "        fig, axes = plt.subplots(2,sharex=True)\n",
    "        fig.subplots_adjust(hspace=.5)\n",
    "        axes[0].hist(self.data, density=True)\n",
    "        axes[0].set_title('Normed Histogram of Data')\n",
    "        axes[0].set_ylabel('Density')\n",
    "\n",
    "        axes[1].plot(x, y)\n",
    "        axes[1].set_title('Normal Distribution for \\n Sample Mean and Sample Standard Deviation')\n",
    "        axes[0].set_ylabel('Density')\n",
    "        plt.show()\n",
    "\n",
    "        return x, y\n",
    "        \n",
    "    def __add__(self, other):\n",
    "        \n",
    "        \"\"\"Function to add together two Gaussian distributions\n",
    "        \n",
    "        Args:\n",
    "            other (Gaussian): Gaussian instance\n",
    "            \n",
    "        Returns:\n",
    "            Gaussian: Gaussian distribution\n",
    "            \n",
    "        \"\"\"\n",
    "        \n",
    "        result = Gaussian()\n",
    "        result.mean = self.mean + other.mean\n",
    "        result.stdev = math.sqrt(self.stdev ** 2 + other.stdev ** 2)\n",
    "        \n",
    "        return result\n",
    "        \n",
    "        \n",
    "    def __repr__(self):\n",
    "    \n",
    "        \"\"\"Function to output the characteristics of the Gaussian instance\n",
    "        \n",
    "        Args:\n",
    "            None\n",
    "        \n",
    "        Returns:\n",
    "            string: characteristics of the Gaussian\n",
    "        \n",
    "        \"\"\"\n",
    "        \n",
    "        return \"mean {}, standard deviation {}\".format(self.mean, self.stdev)"
   ]
  },
  {
   "cell_type": "code",
   "execution_count": 14,
   "metadata": {},
   "outputs": [
    {
     "ename": "FileNotFoundError",
     "evalue": "[Errno 2] No such file or directory: 'numbers.txt'",
     "output_type": "error",
     "traceback": [
      "\u001b[1;31m---------------------------------------------------------------------------\u001b[0m",
      "\u001b[1;31mFileNotFoundError\u001b[0m                         Traceback (most recent call last)",
      "\u001b[1;32md:\\Coding\\Udacity\\AI Python Programming Nano Degree\\Introduction to Python fo AI Programming.ipynb Cell 164\u001b[0m in \u001b[0;36m<cell line: 7>\u001b[1;34m()\u001b[0m\n\u001b[0;32m      <a href='vscode-notebook-cell:/d%3A/Coding/Udacity/AI%20Python%20Programming%20Nano%20Degree/Introduction%20to%20Python%20fo%20AI%20Programming.ipynb#Y330sZmlsZQ%3D%3D?line=4'>5</a>\u001b[0m \u001b[39m# initialize a third gaussian distribution reading in a data efile\u001b[39;00m\n\u001b[0;32m      <a href='vscode-notebook-cell:/d%3A/Coding/Udacity/AI%20Python%20Programming%20Nano%20Degree/Introduction%20to%20Python%20fo%20AI%20Programming.ipynb#Y330sZmlsZQ%3D%3D?line=5'>6</a>\u001b[0m gaussian_three \u001b[39m=\u001b[39m Gaussian()\n\u001b[1;32m----> <a href='vscode-notebook-cell:/d%3A/Coding/Udacity/AI%20Python%20Programming%20Nano%20Degree/Introduction%20to%20Python%20fo%20AI%20Programming.ipynb#Y330sZmlsZQ%3D%3D?line=6'>7</a>\u001b[0m gaussian_three\u001b[39m.\u001b[39;49mread_data_file(\u001b[39m'\u001b[39;49m\u001b[39mnumbers.txt\u001b[39;49m\u001b[39m'\u001b[39;49m)\n\u001b[0;32m      <a href='vscode-notebook-cell:/d%3A/Coding/Udacity/AI%20Python%20Programming%20Nano%20Degree/Introduction%20to%20Python%20fo%20AI%20Programming.ipynb#Y330sZmlsZQ%3D%3D?line=7'>8</a>\u001b[0m gaussian_three\u001b[39m.\u001b[39mcalculate_mean()\n\u001b[0;32m      <a href='vscode-notebook-cell:/d%3A/Coding/Udacity/AI%20Python%20Programming%20Nano%20Degree/Introduction%20to%20Python%20fo%20AI%20Programming.ipynb#Y330sZmlsZQ%3D%3D?line=8'>9</a>\u001b[0m gaussian_three\u001b[39m.\u001b[39mcalculate_stdev()\n",
      "\u001b[1;32md:\\Coding\\Udacity\\AI Python Programming Nano Degree\\Introduction to Python fo AI Programming.ipynb Cell 164\u001b[0m in \u001b[0;36mDistribution.read_data_file\u001b[1;34m(self, file_name)\u001b[0m\n\u001b[0;32m     <a href='vscode-notebook-cell:/d%3A/Coding/Udacity/AI%20Python%20Programming%20Nano%20Degree/Introduction%20to%20Python%20fo%20AI%20Programming.ipynb#Y330sZmlsZQ%3D%3D?line=18'>19</a>\u001b[0m \u001b[39mdef\u001b[39;00m \u001b[39mread_data_file\u001b[39m(\u001b[39mself\u001b[39m, file_name):\n\u001b[0;32m     <a href='vscode-notebook-cell:/d%3A/Coding/Udacity/AI%20Python%20Programming%20Nano%20Degree/Introduction%20to%20Python%20fo%20AI%20Programming.ipynb#Y330sZmlsZQ%3D%3D?line=20'>21</a>\u001b[0m     \u001b[39m\"\"\"Function to read in data from a txt file. The txt file should have\u001b[39;00m\n\u001b[0;32m     <a href='vscode-notebook-cell:/d%3A/Coding/Udacity/AI%20Python%20Programming%20Nano%20Degree/Introduction%20to%20Python%20fo%20AI%20Programming.ipynb#Y330sZmlsZQ%3D%3D?line=21'>22</a>\u001b[0m \u001b[39m    one number (float) per line. The numbers are stored in the data attribute.\u001b[39;00m\n\u001b[0;32m     <a href='vscode-notebook-cell:/d%3A/Coding/Udacity/AI%20Python%20Programming%20Nano%20Degree/Introduction%20to%20Python%20fo%20AI%20Programming.ipynb#Y330sZmlsZQ%3D%3D?line=22'>23</a>\u001b[0m \u001b[39m            \u001b[39;00m\n\u001b[1;32m   (...)\u001b[0m\n\u001b[0;32m     <a href='vscode-notebook-cell:/d%3A/Coding/Udacity/AI%20Python%20Programming%20Nano%20Degree/Introduction%20to%20Python%20fo%20AI%20Programming.ipynb#Y330sZmlsZQ%3D%3D?line=28'>29</a>\u001b[0m \u001b[39m    \u001b[39;00m\n\u001b[0;32m     <a href='vscode-notebook-cell:/d%3A/Coding/Udacity/AI%20Python%20Programming%20Nano%20Degree/Introduction%20to%20Python%20fo%20AI%20Programming.ipynb#Y330sZmlsZQ%3D%3D?line=29'>30</a>\u001b[0m \u001b[39m    \"\"\"\u001b[39;00m\n\u001b[1;32m---> <a href='vscode-notebook-cell:/d%3A/Coding/Udacity/AI%20Python%20Programming%20Nano%20Degree/Introduction%20to%20Python%20fo%20AI%20Programming.ipynb#Y330sZmlsZQ%3D%3D?line=31'>32</a>\u001b[0m     \u001b[39mwith\u001b[39;00m \u001b[39mopen\u001b[39;49m(file_name) \u001b[39mas\u001b[39;00m file:\n\u001b[0;32m     <a href='vscode-notebook-cell:/d%3A/Coding/Udacity/AI%20Python%20Programming%20Nano%20Degree/Introduction%20to%20Python%20fo%20AI%20Programming.ipynb#Y330sZmlsZQ%3D%3D?line=32'>33</a>\u001b[0m         data_list \u001b[39m=\u001b[39m []\n\u001b[0;32m     <a href='vscode-notebook-cell:/d%3A/Coding/Udacity/AI%20Python%20Programming%20Nano%20Degree/Introduction%20to%20Python%20fo%20AI%20Programming.ipynb#Y330sZmlsZQ%3D%3D?line=33'>34</a>\u001b[0m         line \u001b[39m=\u001b[39m file\u001b[39m.\u001b[39mreadline()\n",
      "\u001b[1;31mFileNotFoundError\u001b[0m: [Errno 2] No such file or directory: 'numbers.txt'"
     ]
    }
   ],
   "source": [
    "# initialize two gaussian distributions\n",
    "gaussian_one = Gaussian(25, 3)\n",
    "gaussian_two = Gaussian(30, 2)\n",
    "\n",
    "# initialize a third gaussian distribution reading in a data efile\n",
    "gaussian_three = Gaussian()\n",
    "gaussian_three.read_data_file('numbers.txt')\n",
    "gaussian_three.calculate_mean()\n",
    "gaussian_three.calculate_stdev()"
   ]
  },
  {
   "cell_type": "code",
   "execution_count": 15,
   "metadata": {},
   "outputs": [
    {
     "name": "stdout",
     "output_type": "stream",
     "text": [
      "25\n",
      "30\n",
      "3\n",
      "2\n",
      "0\n",
      "1\n"
     ]
    }
   ],
   "source": [
    "# print out the mean and standard deviations\n",
    "print(gaussian_one.mean)\n",
    "print(gaussian_two.mean)\n",
    "\n",
    "print(gaussian_one.stdev)\n",
    "print(gaussian_two.stdev)\n",
    "\n",
    "print(gaussian_three.mean)\n",
    "print(gaussian_three.stdev)"
   ]
  },
  {
   "cell_type": "code",
   "execution_count": 16,
   "metadata": {},
   "outputs": [
    {
     "ename": "ValueError",
     "evalue": "min() arg is an empty sequence",
     "output_type": "error",
     "traceback": [
      "\u001b[1;31m---------------------------------------------------------------------------\u001b[0m",
      "\u001b[1;31mValueError\u001b[0m                                Traceback (most recent call last)",
      "\u001b[1;32md:\\Coding\\Udacity\\AI Python Programming Nano Degree\\Introduction to Python fo AI Programming.ipynb Cell 166\u001b[0m in \u001b[0;36m<cell line: 2>\u001b[1;34m()\u001b[0m\n\u001b[0;32m      <a href='vscode-notebook-cell:/d%3A/Coding/Udacity/AI%20Python%20Programming%20Nano%20Degree/Introduction%20to%20Python%20fo%20AI%20Programming.ipynb#Y325sZmlsZQ%3D%3D?line=0'>1</a>\u001b[0m \u001b[39m# plot histogram of gaussian three\u001b[39;00m\n\u001b[1;32m----> <a href='vscode-notebook-cell:/d%3A/Coding/Udacity/AI%20Python%20Programming%20Nano%20Degree/Introduction%20to%20Python%20fo%20AI%20Programming.ipynb#Y325sZmlsZQ%3D%3D?line=1'>2</a>\u001b[0m gaussian_three\u001b[39m.\u001b[39;49mplot_histogram_pdf()\n",
      "\u001b[1;32md:\\Coding\\Udacity\\AI Python Programming Nano Degree\\Introduction to Python fo AI Programming.ipynb Cell 166\u001b[0m in \u001b[0;36mGaussian.plot_histogram_pdf\u001b[1;34m(self, n_spaces)\u001b[0m\n\u001b[0;32m    <a href='vscode-notebook-cell:/d%3A/Coding/Udacity/AI%20Python%20Programming%20Nano%20Degree/Introduction%20to%20Python%20fo%20AI%20Programming.ipynb#Y325sZmlsZQ%3D%3D?line=116'>117</a>\u001b[0m mu \u001b[39m=\u001b[39m \u001b[39mself\u001b[39m\u001b[39m.\u001b[39mmean\n\u001b[0;32m    <a href='vscode-notebook-cell:/d%3A/Coding/Udacity/AI%20Python%20Programming%20Nano%20Degree/Introduction%20to%20Python%20fo%20AI%20Programming.ipynb#Y325sZmlsZQ%3D%3D?line=117'>118</a>\u001b[0m sigma \u001b[39m=\u001b[39m \u001b[39mself\u001b[39m\u001b[39m.\u001b[39mstdev\n\u001b[1;32m--> <a href='vscode-notebook-cell:/d%3A/Coding/Udacity/AI%20Python%20Programming%20Nano%20Degree/Introduction%20to%20Python%20fo%20AI%20Programming.ipynb#Y325sZmlsZQ%3D%3D?line=119'>120</a>\u001b[0m min_range \u001b[39m=\u001b[39m \u001b[39mmin\u001b[39;49m(\u001b[39mself\u001b[39;49m\u001b[39m.\u001b[39;49mdata)\n\u001b[0;32m    <a href='vscode-notebook-cell:/d%3A/Coding/Udacity/AI%20Python%20Programming%20Nano%20Degree/Introduction%20to%20Python%20fo%20AI%20Programming.ipynb#Y325sZmlsZQ%3D%3D?line=120'>121</a>\u001b[0m max_range \u001b[39m=\u001b[39m \u001b[39mmax\u001b[39m(\u001b[39mself\u001b[39m\u001b[39m.\u001b[39mdata)\n\u001b[0;32m    <a href='vscode-notebook-cell:/d%3A/Coding/Udacity/AI%20Python%20Programming%20Nano%20Degree/Introduction%20to%20Python%20fo%20AI%20Programming.ipynb#Y325sZmlsZQ%3D%3D?line=122'>123</a>\u001b[0m  \u001b[39m# calculates the interval between x values\u001b[39;00m\n",
      "\u001b[1;31mValueError\u001b[0m: min() arg is an empty sequence"
     ]
    }
   ],
   "source": [
    "# plot histogram of gaussian three\n",
    "gaussian_three.plot_histogram_pdf()"
   ]
  },
  {
   "cell_type": "code",
   "execution_count": 1,
   "metadata": {},
   "outputs": [
    {
     "ename": "NameError",
     "evalue": "name 'gaussian_one' is not defined",
     "output_type": "error",
     "traceback": [
      "\u001b[1;31m---------------------------------------------------------------------------\u001b[0m",
      "\u001b[1;31mNameError\u001b[0m                                 Traceback (most recent call last)",
      "\u001b[1;32md:\\Coding\\Udacity\\AI Python Programming Nano Degree\\Introduction to Python fo AI Programming.ipynb Cell 167\u001b[0m in \u001b[0;36m<cell line: 2>\u001b[1;34m()\u001b[0m\n\u001b[0;32m      <a href='vscode-notebook-cell:/d%3A/Coding/Udacity/AI%20Python%20Programming%20Nano%20Degree/Introduction%20to%20Python%20fo%20AI%20Programming.ipynb#Y325sZmlsZQ%3D%3D?line=0'>1</a>\u001b[0m \u001b[39m# add gaussian_one and gaussian_two together\u001b[39;00m\n\u001b[1;32m----> <a href='vscode-notebook-cell:/d%3A/Coding/Udacity/AI%20Python%20Programming%20Nano%20Degree/Introduction%20to%20Python%20fo%20AI%20Programming.ipynb#Y325sZmlsZQ%3D%3D?line=1'>2</a>\u001b[0m gaussian_one \u001b[39m+\u001b[39m gaussian_two\n",
      "\u001b[1;31mNameError\u001b[0m: name 'gaussian_one' is not defined"
     ]
    }
   ],
   "source": [
    "# add gaussian_one and gaussian_two together\n",
    "gaussian_one + gaussian_two"
   ]
  },
  {
   "cell_type": "markdown",
   "metadata": {},
   "source": [
    "### Here, NanoDegree's 1st step done"
   ]
  }
 ],
 "metadata": {
  "kernelspec": {
   "display_name": "Python 3.10.6 64-bit",
   "language": "python",
   "name": "python3"
  },
  "language_info": {
   "codemirror_mode": {
    "name": "ipython",
    "version": 3
   },
   "file_extension": ".py",
   "mimetype": "text/x-python",
   "name": "python",
   "nbconvert_exporter": "python",
   "pygments_lexer": "ipython3",
   "version": "3.10.6"
  },
  "orig_nbformat": 4,
  "vscode": {
   "interpreter": {
    "hash": "9003e742f195946446e7171aa0bce8f0852e90101e1e8fc81c5c29dc8432471e"
   }
  }
 },
 "nbformat": 4,
 "nbformat_minor": 2
}
